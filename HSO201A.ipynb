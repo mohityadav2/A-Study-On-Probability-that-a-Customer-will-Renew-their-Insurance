{
 "cells": [
  {
   "cell_type": "markdown",
   "metadata": {},
   "source": [
    "Importing Libraries"
   ]
  },
  {
   "cell_type": "code",
   "execution_count": 2,
   "metadata": {},
   "outputs": [],
   "source": [
    "import numpy as np\n",
    "import pandas as pd\n",
    "import matplotlib.pyplot as plt \n",
    "from sklearn import model_selection\n",
    "from sklearn.linear_model import LogisticRegression\n",
    "from sklearn.ensemble import RandomForestClassifier\n",
    "import seaborn as sns\n",
    "from sklearn.metrics import accuracy_score, roc_auc_score, confusion_matrix\n",
    "\n",
    "%matplotlib inline"
   ]
  },
  {
   "cell_type": "code",
   "execution_count": 3,
   "metadata": {},
   "outputs": [
    {
     "data": {
      "text/html": [
       "<div>\n",
       "<style scoped>\n",
       "    .dataframe tbody tr th:only-of-type {\n",
       "        vertical-align: middle;\n",
       "    }\n",
       "\n",
       "    .dataframe tbody tr th {\n",
       "        vertical-align: top;\n",
       "    }\n",
       "\n",
       "    .dataframe thead th {\n",
       "        text-align: right;\n",
       "    }\n",
       "</style>\n",
       "<table border=\"1\" class=\"dataframe\">\n",
       "  <thead>\n",
       "    <tr style=\"text-align: right;\">\n",
       "      <th></th>\n",
       "      <th>id</th>\n",
       "      <th>perc_premium_paid_by_cash_credit</th>\n",
       "      <th>age_in_days</th>\n",
       "      <th>Income</th>\n",
       "      <th>Count_3-6_months_late</th>\n",
       "      <th>Count_6-12_months_late</th>\n",
       "      <th>Count_more_than_12_months_late</th>\n",
       "      <th>Marital Status</th>\n",
       "      <th>Veh_Owned</th>\n",
       "      <th>No_of_dep</th>\n",
       "      <th>Accomodation</th>\n",
       "      <th>risk_score</th>\n",
       "      <th>no_of_premiums_paid</th>\n",
       "      <th>sourcing_channel</th>\n",
       "      <th>residence_area_type</th>\n",
       "      <th>premium</th>\n",
       "      <th>renewal</th>\n",
       "    </tr>\n",
       "  </thead>\n",
       "  <tbody>\n",
       "    <tr>\n",
       "      <th>0</th>\n",
       "      <td>1</td>\n",
       "      <td>0.317</td>\n",
       "      <td>11330</td>\n",
       "      <td>90050</td>\n",
       "      <td>0</td>\n",
       "      <td>0</td>\n",
       "      <td>0</td>\n",
       "      <td>0</td>\n",
       "      <td>3</td>\n",
       "      <td>3</td>\n",
       "      <td>1</td>\n",
       "      <td>98.810</td>\n",
       "      <td>8</td>\n",
       "      <td>A</td>\n",
       "      <td>Rural</td>\n",
       "      <td>5400</td>\n",
       "      <td>1</td>\n",
       "    </tr>\n",
       "    <tr>\n",
       "      <th>1</th>\n",
       "      <td>2</td>\n",
       "      <td>0.000</td>\n",
       "      <td>30309</td>\n",
       "      <td>156080</td>\n",
       "      <td>0</td>\n",
       "      <td>0</td>\n",
       "      <td>0</td>\n",
       "      <td>1</td>\n",
       "      <td>3</td>\n",
       "      <td>1</td>\n",
       "      <td>1</td>\n",
       "      <td>99.066</td>\n",
       "      <td>3</td>\n",
       "      <td>A</td>\n",
       "      <td>Urban</td>\n",
       "      <td>11700</td>\n",
       "      <td>1</td>\n",
       "    </tr>\n",
       "    <tr>\n",
       "      <th>2</th>\n",
       "      <td>3</td>\n",
       "      <td>0.015</td>\n",
       "      <td>16069</td>\n",
       "      <td>145020</td>\n",
       "      <td>1</td>\n",
       "      <td>0</td>\n",
       "      <td>0</td>\n",
       "      <td>0</td>\n",
       "      <td>1</td>\n",
       "      <td>1</td>\n",
       "      <td>1</td>\n",
       "      <td>99.170</td>\n",
       "      <td>14</td>\n",
       "      <td>C</td>\n",
       "      <td>Urban</td>\n",
       "      <td>18000</td>\n",
       "      <td>1</td>\n",
       "    </tr>\n",
       "    <tr>\n",
       "      <th>3</th>\n",
       "      <td>4</td>\n",
       "      <td>0.000</td>\n",
       "      <td>23733</td>\n",
       "      <td>187560</td>\n",
       "      <td>0</td>\n",
       "      <td>0</td>\n",
       "      <td>0</td>\n",
       "      <td>1</td>\n",
       "      <td>1</td>\n",
       "      <td>1</td>\n",
       "      <td>0</td>\n",
       "      <td>99.370</td>\n",
       "      <td>13</td>\n",
       "      <td>A</td>\n",
       "      <td>Urban</td>\n",
       "      <td>13800</td>\n",
       "      <td>1</td>\n",
       "    </tr>\n",
       "    <tr>\n",
       "      <th>4</th>\n",
       "      <td>5</td>\n",
       "      <td>0.888</td>\n",
       "      <td>19360</td>\n",
       "      <td>103050</td>\n",
       "      <td>7</td>\n",
       "      <td>3</td>\n",
       "      <td>4</td>\n",
       "      <td>0</td>\n",
       "      <td>2</td>\n",
       "      <td>1</td>\n",
       "      <td>0</td>\n",
       "      <td>98.800</td>\n",
       "      <td>15</td>\n",
       "      <td>A</td>\n",
       "      <td>Urban</td>\n",
       "      <td>7500</td>\n",
       "      <td>0</td>\n",
       "    </tr>\n",
       "    <tr>\n",
       "      <th>...</th>\n",
       "      <td>...</td>\n",
       "      <td>...</td>\n",
       "      <td>...</td>\n",
       "      <td>...</td>\n",
       "      <td>...</td>\n",
       "      <td>...</td>\n",
       "      <td>...</td>\n",
       "      <td>...</td>\n",
       "      <td>...</td>\n",
       "      <td>...</td>\n",
       "      <td>...</td>\n",
       "      <td>...</td>\n",
       "      <td>...</td>\n",
       "      <td>...</td>\n",
       "      <td>...</td>\n",
       "      <td>...</td>\n",
       "      <td>...</td>\n",
       "    </tr>\n",
       "    <tr>\n",
       "      <th>79848</th>\n",
       "      <td>79849</td>\n",
       "      <td>0.249</td>\n",
       "      <td>25555</td>\n",
       "      <td>64420</td>\n",
       "      <td>0</td>\n",
       "      <td>0</td>\n",
       "      <td>0</td>\n",
       "      <td>1</td>\n",
       "      <td>2</td>\n",
       "      <td>4</td>\n",
       "      <td>0</td>\n",
       "      <td>99.080</td>\n",
       "      <td>10</td>\n",
       "      <td>A</td>\n",
       "      <td>Urban</td>\n",
       "      <td>5700</td>\n",
       "      <td>1</td>\n",
       "    </tr>\n",
       "    <tr>\n",
       "      <th>79849</th>\n",
       "      <td>79850</td>\n",
       "      <td>0.003</td>\n",
       "      <td>16797</td>\n",
       "      <td>660040</td>\n",
       "      <td>1</td>\n",
       "      <td>0</td>\n",
       "      <td>0</td>\n",
       "      <td>0</td>\n",
       "      <td>2</td>\n",
       "      <td>1</td>\n",
       "      <td>0</td>\n",
       "      <td>99.650</td>\n",
       "      <td>9</td>\n",
       "      <td>B</td>\n",
       "      <td>Urban</td>\n",
       "      <td>28500</td>\n",
       "      <td>1</td>\n",
       "    </tr>\n",
       "    <tr>\n",
       "      <th>79850</th>\n",
       "      <td>79851</td>\n",
       "      <td>0.012</td>\n",
       "      <td>24835</td>\n",
       "      <td>227760</td>\n",
       "      <td>0</td>\n",
       "      <td>0</td>\n",
       "      <td>0</td>\n",
       "      <td>0</td>\n",
       "      <td>2</td>\n",
       "      <td>3</td>\n",
       "      <td>0</td>\n",
       "      <td>99.660</td>\n",
       "      <td>11</td>\n",
       "      <td>A</td>\n",
       "      <td>Rural</td>\n",
       "      <td>11700</td>\n",
       "      <td>1</td>\n",
       "    </tr>\n",
       "    <tr>\n",
       "      <th>79851</th>\n",
       "      <td>79852</td>\n",
       "      <td>0.190</td>\n",
       "      <td>10959</td>\n",
       "      <td>153060</td>\n",
       "      <td>1</td>\n",
       "      <td>0</td>\n",
       "      <td>0</td>\n",
       "      <td>0</td>\n",
       "      <td>2</td>\n",
       "      <td>1</td>\n",
       "      <td>0</td>\n",
       "      <td>99.460</td>\n",
       "      <td>24</td>\n",
       "      <td>A</td>\n",
       "      <td>Urban</td>\n",
       "      <td>11700</td>\n",
       "      <td>1</td>\n",
       "    </tr>\n",
       "    <tr>\n",
       "      <th>79852</th>\n",
       "      <td>79853</td>\n",
       "      <td>0.000</td>\n",
       "      <td>19720</td>\n",
       "      <td>324030</td>\n",
       "      <td>0</td>\n",
       "      <td>0</td>\n",
       "      <td>0</td>\n",
       "      <td>0</td>\n",
       "      <td>3</td>\n",
       "      <td>3</td>\n",
       "      <td>0</td>\n",
       "      <td>99.800</td>\n",
       "      <td>7</td>\n",
       "      <td>D</td>\n",
       "      <td>Rural</td>\n",
       "      <td>3300</td>\n",
       "      <td>1</td>\n",
       "    </tr>\n",
       "  </tbody>\n",
       "</table>\n",
       "<p>79853 rows × 17 columns</p>\n",
       "</div>"
      ],
      "text/plain": [
       "          id  perc_premium_paid_by_cash_credit  age_in_days  Income  \\\n",
       "0          1                             0.317        11330   90050   \n",
       "1          2                             0.000        30309  156080   \n",
       "2          3                             0.015        16069  145020   \n",
       "3          4                             0.000        23733  187560   \n",
       "4          5                             0.888        19360  103050   \n",
       "...      ...                               ...          ...     ...   \n",
       "79848  79849                             0.249        25555   64420   \n",
       "79849  79850                             0.003        16797  660040   \n",
       "79850  79851                             0.012        24835  227760   \n",
       "79851  79852                             0.190        10959  153060   \n",
       "79852  79853                             0.000        19720  324030   \n",
       "\n",
       "       Count_3-6_months_late  Count_6-12_months_late  \\\n",
       "0                          0                       0   \n",
       "1                          0                       0   \n",
       "2                          1                       0   \n",
       "3                          0                       0   \n",
       "4                          7                       3   \n",
       "...                      ...                     ...   \n",
       "79848                      0                       0   \n",
       "79849                      1                       0   \n",
       "79850                      0                       0   \n",
       "79851                      1                       0   \n",
       "79852                      0                       0   \n",
       "\n",
       "       Count_more_than_12_months_late  Marital Status  Veh_Owned  No_of_dep  \\\n",
       "0                                   0               0          3          3   \n",
       "1                                   0               1          3          1   \n",
       "2                                   0               0          1          1   \n",
       "3                                   0               1          1          1   \n",
       "4                                   4               0          2          1   \n",
       "...                               ...             ...        ...        ...   \n",
       "79848                               0               1          2          4   \n",
       "79849                               0               0          2          1   \n",
       "79850                               0               0          2          3   \n",
       "79851                               0               0          2          1   \n",
       "79852                               0               0          3          3   \n",
       "\n",
       "       Accomodation  risk_score  no_of_premiums_paid sourcing_channel  \\\n",
       "0                 1      98.810                    8                A   \n",
       "1                 1      99.066                    3                A   \n",
       "2                 1      99.170                   14                C   \n",
       "3                 0      99.370                   13                A   \n",
       "4                 0      98.800                   15                A   \n",
       "...             ...         ...                  ...              ...   \n",
       "79848             0      99.080                   10                A   \n",
       "79849             0      99.650                    9                B   \n",
       "79850             0      99.660                   11                A   \n",
       "79851             0      99.460                   24                A   \n",
       "79852             0      99.800                    7                D   \n",
       "\n",
       "      residence_area_type  premium  renewal  \n",
       "0                   Rural     5400        1  \n",
       "1                   Urban    11700        1  \n",
       "2                   Urban    18000        1  \n",
       "3                   Urban    13800        1  \n",
       "4                   Urban     7500        0  \n",
       "...                   ...      ...      ...  \n",
       "79848               Urban     5700        1  \n",
       "79849               Urban    28500        1  \n",
       "79850               Rural    11700        1  \n",
       "79851               Urban    11700        1  \n",
       "79852               Rural     3300        1  \n",
       "\n",
       "[79853 rows x 17 columns]"
      ]
     },
     "execution_count": 3,
     "metadata": {},
     "output_type": "execute_result"
    }
   ],
   "source": [
    "dataset = pd.read_excel(\"Downloads/ML/Sample Data.xlsx\")\n",
    "dataset"
   ]
  },
  {
   "cell_type": "code",
   "execution_count": 4,
   "metadata": {},
   "outputs": [
    {
     "data": {
      "text/plain": [
       "(79853, 17)"
      ]
     },
     "execution_count": 4,
     "metadata": {},
     "output_type": "execute_result"
    }
   ],
   "source": [
    "dataset.shape\n",
    "# data consist of 17 features with 79853 data samples"
   ]
  },
  {
   "cell_type": "code",
   "execution_count": 5,
   "metadata": {
    "scrolled": true
   },
   "outputs": [
    {
     "data": {
      "text/plain": [
       "Index(['id', 'perc_premium_paid_by_cash_credit', 'age_in_days', 'Income',\n",
       "       'Count_3-6_months_late', 'Count_6-12_months_late',\n",
       "       'Count_more_than_12_months_late', 'Marital Status', 'Veh_Owned',\n",
       "       'No_of_dep', 'Accomodation', 'risk_score', 'no_of_premiums_paid',\n",
       "       'sourcing_channel', 'residence_area_type', 'premium', 'renewal'],\n",
       "      dtype='object')"
      ]
     },
     "execution_count": 5,
     "metadata": {},
     "output_type": "execute_result"
    }
   ],
   "source": [
    "dataset.columns"
   ]
  },
  {
   "cell_type": "code",
   "execution_count": 6,
   "metadata": {},
   "outputs": [
    {
     "name": "stdout",
     "output_type": "stream",
     "text": [
      "<class 'pandas.core.frame.DataFrame'>\n",
      "RangeIndex: 79853 entries, 0 to 79852\n",
      "Data columns (total 17 columns):\n",
      " #   Column                            Non-Null Count  Dtype  \n",
      "---  ------                            --------------  -----  \n",
      " 0   id                                79853 non-null  int64  \n",
      " 1   perc_premium_paid_by_cash_credit  79853 non-null  float64\n",
      " 2   age_in_days                       79853 non-null  int64  \n",
      " 3   Income                            79853 non-null  int64  \n",
      " 4   Count_3-6_months_late             79853 non-null  int64  \n",
      " 5   Count_6-12_months_late            79853 non-null  int64  \n",
      " 6   Count_more_than_12_months_late    79853 non-null  int64  \n",
      " 7   Marital Status                    79853 non-null  int64  \n",
      " 8   Veh_Owned                         79853 non-null  int64  \n",
      " 9   No_of_dep                         79853 non-null  int64  \n",
      " 10  Accomodation                      79853 non-null  int64  \n",
      " 11  risk_score                        79853 non-null  float64\n",
      " 12  no_of_premiums_paid               79853 non-null  int64  \n",
      " 13  sourcing_channel                  79853 non-null  object \n",
      " 14  residence_area_type               79853 non-null  object \n",
      " 15  premium                           79853 non-null  int64  \n",
      " 16  renewal                           79853 non-null  int64  \n",
      "dtypes: float64(2), int64(13), object(2)\n",
      "memory usage: 10.4+ MB\n"
     ]
    }
   ],
   "source": [
    "dataset.info()"
   ]
  },
  {
   "cell_type": "code",
   "execution_count": 7,
   "metadata": {},
   "outputs": [
    {
     "data": {
      "text/plain": [
       "0.0003826182568618026"
      ]
     },
     "execution_count": 7,
     "metadata": {},
     "output_type": "execute_result"
    }
   ],
   "source": [
    "dataset[\"Veh_Owned\"].corr(dataset[\"renewal\"]) \n",
    "# Gives Correlation between Veh_Owned and renewal"
   ]
  },
  {
   "cell_type": "code",
   "execution_count": 8,
   "metadata": {},
   "outputs": [
    {
     "data": {
      "text/plain": [
       "id                                  0\n",
       "perc_premium_paid_by_cash_credit    0\n",
       "age_in_days                         0\n",
       "Income                              0\n",
       "Count_3-6_months_late               0\n",
       "Count_6-12_months_late              0\n",
       "Count_more_than_12_months_late      0\n",
       "Marital Status                      0\n",
       "Veh_Owned                           0\n",
       "No_of_dep                           0\n",
       "Accomodation                        0\n",
       "risk_score                          0\n",
       "no_of_premiums_paid                 0\n",
       "sourcing_channel                    0\n",
       "residence_area_type                 0\n",
       "premium                             0\n",
       "renewal                             0\n",
       "dtype: int64"
      ]
     },
     "execution_count": 8,
     "metadata": {},
     "output_type": "execute_result"
    }
   ],
   "source": [
    "dataset.isnull().sum()\n",
    "# No Null Values"
   ]
  },
  {
   "cell_type": "code",
   "execution_count": 9,
   "metadata": {},
   "outputs": [],
   "source": [
    "#'id' is not a significant column\n",
    "del dataset[\"id\"]"
   ]
  },
  {
   "cell_type": "markdown",
   "metadata": {},
   "source": [
    "Converting categorical columns(\"residence_area_type\", \"sourcing_channel\") to numeric"
   ]
  },
  {
   "cell_type": "code",
   "execution_count": 10,
   "metadata": {},
   "outputs": [
    {
     "name": "stdout",
     "output_type": "stream",
     "text": [
      "Distinct values in residence_area_type column: 2\n",
      "Distinct values in sourcing_channel column: 5\n"
     ]
    }
   ],
   "source": [
    "print(\"Distinct values in residence_area_type column:\",len(set(dataset[\"residence_area_type\"])))\n",
    "print(\"Distinct values in sourcing_channel column:\",len(set(dataset[\"sourcing_channel\"])))"
   ]
  },
  {
   "cell_type": "code",
   "execution_count": 11,
   "metadata": {},
   "outputs": [],
   "source": [
    "dataset[\"residence_area_type\"] = pd.get_dummies(dataset[\"residence_area_type\"], drop_first= True)"
   ]
  },
  {
   "cell_type": "code",
   "execution_count": 12,
   "metadata": {},
   "outputs": [],
   "source": [
    "dummy = pd.get_dummies(dataset[\"sourcing_channel\"], drop_first = True)\n",
    "del dataset[\"sourcing_channel\"]\n",
    "dataset = pd.concat([dataset,dummy],axis=1)"
   ]
  },
  {
   "cell_type": "code",
   "execution_count": 13,
   "metadata": {
    "scrolled": true
   },
   "outputs": [],
   "source": [
    "#‘age’ to display customer’s age in years for improved readability\n",
    "dataset[\"Age\"] = round(dataset[\"age_in_days\"]/365,0) \n",
    "dataset['Age'] = dataset['Age'].astype(int)\n",
    "\n",
    "del dataset[\"age_in_days\"]"
   ]
  },
  {
   "cell_type": "code",
   "execution_count": 14,
   "metadata": {},
   "outputs": [],
   "source": [
    "#income in millions upto 2 digit\n",
    "#‘cashPercent’ to to display Cash premium payment in % term\n",
    "dataset[\"Income\"] = round(dataset[\"Income\"]/10000, 2)\n"
   ]
  },
  {
   "cell_type": "code",
   "execution_count": 15,
   "metadata": {},
   "outputs": [],
   "source": [
    "dataset['perc_premium_paid_by_cash_credit'] *= 100 #Displaying in the % Form"
   ]
  },
  {
   "cell_type": "code",
   "execution_count": 16,
   "metadata": {},
   "outputs": [
    {
     "data": {
      "text/html": [
       "<div>\n",
       "<style scoped>\n",
       "    .dataframe tbody tr th:only-of-type {\n",
       "        vertical-align: middle;\n",
       "    }\n",
       "\n",
       "    .dataframe tbody tr th {\n",
       "        vertical-align: top;\n",
       "    }\n",
       "\n",
       "    .dataframe thead th {\n",
       "        text-align: right;\n",
       "    }\n",
       "</style>\n",
       "<table border=\"1\" class=\"dataframe\">\n",
       "  <thead>\n",
       "    <tr style=\"text-align: right;\">\n",
       "      <th></th>\n",
       "      <th>perc_premium_paid_by_cash_credit</th>\n",
       "      <th>Income</th>\n",
       "      <th>Count_3-6_months_late</th>\n",
       "      <th>Count_6-12_months_late</th>\n",
       "      <th>Count_more_than_12_months_late</th>\n",
       "      <th>Marital Status</th>\n",
       "      <th>Veh_Owned</th>\n",
       "      <th>No_of_dep</th>\n",
       "      <th>Accomodation</th>\n",
       "      <th>risk_score</th>\n",
       "      <th>no_of_premiums_paid</th>\n",
       "      <th>residence_area_type</th>\n",
       "      <th>premium</th>\n",
       "      <th>renewal</th>\n",
       "      <th>B</th>\n",
       "      <th>C</th>\n",
       "      <th>D</th>\n",
       "      <th>E</th>\n",
       "      <th>Age</th>\n",
       "    </tr>\n",
       "  </thead>\n",
       "  <tbody>\n",
       "    <tr>\n",
       "      <th>0</th>\n",
       "      <td>31.7</td>\n",
       "      <td>9.01</td>\n",
       "      <td>0</td>\n",
       "      <td>0</td>\n",
       "      <td>0</td>\n",
       "      <td>0</td>\n",
       "      <td>3</td>\n",
       "      <td>3</td>\n",
       "      <td>1</td>\n",
       "      <td>98.810</td>\n",
       "      <td>8</td>\n",
       "      <td>0</td>\n",
       "      <td>5400</td>\n",
       "      <td>1</td>\n",
       "      <td>0</td>\n",
       "      <td>0</td>\n",
       "      <td>0</td>\n",
       "      <td>0</td>\n",
       "      <td>31</td>\n",
       "    </tr>\n",
       "    <tr>\n",
       "      <th>1</th>\n",
       "      <td>0.0</td>\n",
       "      <td>15.61</td>\n",
       "      <td>0</td>\n",
       "      <td>0</td>\n",
       "      <td>0</td>\n",
       "      <td>1</td>\n",
       "      <td>3</td>\n",
       "      <td>1</td>\n",
       "      <td>1</td>\n",
       "      <td>99.066</td>\n",
       "      <td>3</td>\n",
       "      <td>1</td>\n",
       "      <td>11700</td>\n",
       "      <td>1</td>\n",
       "      <td>0</td>\n",
       "      <td>0</td>\n",
       "      <td>0</td>\n",
       "      <td>0</td>\n",
       "      <td>83</td>\n",
       "    </tr>\n",
       "    <tr>\n",
       "      <th>2</th>\n",
       "      <td>1.5</td>\n",
       "      <td>14.50</td>\n",
       "      <td>1</td>\n",
       "      <td>0</td>\n",
       "      <td>0</td>\n",
       "      <td>0</td>\n",
       "      <td>1</td>\n",
       "      <td>1</td>\n",
       "      <td>1</td>\n",
       "      <td>99.170</td>\n",
       "      <td>14</td>\n",
       "      <td>1</td>\n",
       "      <td>18000</td>\n",
       "      <td>1</td>\n",
       "      <td>0</td>\n",
       "      <td>1</td>\n",
       "      <td>0</td>\n",
       "      <td>0</td>\n",
       "      <td>44</td>\n",
       "    </tr>\n",
       "    <tr>\n",
       "      <th>3</th>\n",
       "      <td>0.0</td>\n",
       "      <td>18.76</td>\n",
       "      <td>0</td>\n",
       "      <td>0</td>\n",
       "      <td>0</td>\n",
       "      <td>1</td>\n",
       "      <td>1</td>\n",
       "      <td>1</td>\n",
       "      <td>0</td>\n",
       "      <td>99.370</td>\n",
       "      <td>13</td>\n",
       "      <td>1</td>\n",
       "      <td>13800</td>\n",
       "      <td>1</td>\n",
       "      <td>0</td>\n",
       "      <td>0</td>\n",
       "      <td>0</td>\n",
       "      <td>0</td>\n",
       "      <td>65</td>\n",
       "    </tr>\n",
       "    <tr>\n",
       "      <th>4</th>\n",
       "      <td>88.8</td>\n",
       "      <td>10.30</td>\n",
       "      <td>7</td>\n",
       "      <td>3</td>\n",
       "      <td>4</td>\n",
       "      <td>0</td>\n",
       "      <td>2</td>\n",
       "      <td>1</td>\n",
       "      <td>0</td>\n",
       "      <td>98.800</td>\n",
       "      <td>15</td>\n",
       "      <td>1</td>\n",
       "      <td>7500</td>\n",
       "      <td>0</td>\n",
       "      <td>0</td>\n",
       "      <td>0</td>\n",
       "      <td>0</td>\n",
       "      <td>0</td>\n",
       "      <td>53</td>\n",
       "    </tr>\n",
       "    <tr>\n",
       "      <th>...</th>\n",
       "      <td>...</td>\n",
       "      <td>...</td>\n",
       "      <td>...</td>\n",
       "      <td>...</td>\n",
       "      <td>...</td>\n",
       "      <td>...</td>\n",
       "      <td>...</td>\n",
       "      <td>...</td>\n",
       "      <td>...</td>\n",
       "      <td>...</td>\n",
       "      <td>...</td>\n",
       "      <td>...</td>\n",
       "      <td>...</td>\n",
       "      <td>...</td>\n",
       "      <td>...</td>\n",
       "      <td>...</td>\n",
       "      <td>...</td>\n",
       "      <td>...</td>\n",
       "      <td>...</td>\n",
       "    </tr>\n",
       "    <tr>\n",
       "      <th>79848</th>\n",
       "      <td>24.9</td>\n",
       "      <td>6.44</td>\n",
       "      <td>0</td>\n",
       "      <td>0</td>\n",
       "      <td>0</td>\n",
       "      <td>1</td>\n",
       "      <td>2</td>\n",
       "      <td>4</td>\n",
       "      <td>0</td>\n",
       "      <td>99.080</td>\n",
       "      <td>10</td>\n",
       "      <td>1</td>\n",
       "      <td>5700</td>\n",
       "      <td>1</td>\n",
       "      <td>0</td>\n",
       "      <td>0</td>\n",
       "      <td>0</td>\n",
       "      <td>0</td>\n",
       "      <td>70</td>\n",
       "    </tr>\n",
       "    <tr>\n",
       "      <th>79849</th>\n",
       "      <td>0.3</td>\n",
       "      <td>66.00</td>\n",
       "      <td>1</td>\n",
       "      <td>0</td>\n",
       "      <td>0</td>\n",
       "      <td>0</td>\n",
       "      <td>2</td>\n",
       "      <td>1</td>\n",
       "      <td>0</td>\n",
       "      <td>99.650</td>\n",
       "      <td>9</td>\n",
       "      <td>1</td>\n",
       "      <td>28500</td>\n",
       "      <td>1</td>\n",
       "      <td>1</td>\n",
       "      <td>0</td>\n",
       "      <td>0</td>\n",
       "      <td>0</td>\n",
       "      <td>46</td>\n",
       "    </tr>\n",
       "    <tr>\n",
       "      <th>79850</th>\n",
       "      <td>1.2</td>\n",
       "      <td>22.78</td>\n",
       "      <td>0</td>\n",
       "      <td>0</td>\n",
       "      <td>0</td>\n",
       "      <td>0</td>\n",
       "      <td>2</td>\n",
       "      <td>3</td>\n",
       "      <td>0</td>\n",
       "      <td>99.660</td>\n",
       "      <td>11</td>\n",
       "      <td>0</td>\n",
       "      <td>11700</td>\n",
       "      <td>1</td>\n",
       "      <td>0</td>\n",
       "      <td>0</td>\n",
       "      <td>0</td>\n",
       "      <td>0</td>\n",
       "      <td>68</td>\n",
       "    </tr>\n",
       "    <tr>\n",
       "      <th>79851</th>\n",
       "      <td>19.0</td>\n",
       "      <td>15.31</td>\n",
       "      <td>1</td>\n",
       "      <td>0</td>\n",
       "      <td>0</td>\n",
       "      <td>0</td>\n",
       "      <td>2</td>\n",
       "      <td>1</td>\n",
       "      <td>0</td>\n",
       "      <td>99.460</td>\n",
       "      <td>24</td>\n",
       "      <td>1</td>\n",
       "      <td>11700</td>\n",
       "      <td>1</td>\n",
       "      <td>0</td>\n",
       "      <td>0</td>\n",
       "      <td>0</td>\n",
       "      <td>0</td>\n",
       "      <td>30</td>\n",
       "    </tr>\n",
       "    <tr>\n",
       "      <th>79852</th>\n",
       "      <td>0.0</td>\n",
       "      <td>32.40</td>\n",
       "      <td>0</td>\n",
       "      <td>0</td>\n",
       "      <td>0</td>\n",
       "      <td>0</td>\n",
       "      <td>3</td>\n",
       "      <td>3</td>\n",
       "      <td>0</td>\n",
       "      <td>99.800</td>\n",
       "      <td>7</td>\n",
       "      <td>0</td>\n",
       "      <td>3300</td>\n",
       "      <td>1</td>\n",
       "      <td>0</td>\n",
       "      <td>0</td>\n",
       "      <td>1</td>\n",
       "      <td>0</td>\n",
       "      <td>54</td>\n",
       "    </tr>\n",
       "  </tbody>\n",
       "</table>\n",
       "<p>79853 rows × 19 columns</p>\n",
       "</div>"
      ],
      "text/plain": [
       "       perc_premium_paid_by_cash_credit  Income  Count_3-6_months_late  \\\n",
       "0                                  31.7    9.01                      0   \n",
       "1                                   0.0   15.61                      0   \n",
       "2                                   1.5   14.50                      1   \n",
       "3                                   0.0   18.76                      0   \n",
       "4                                  88.8   10.30                      7   \n",
       "...                                 ...     ...                    ...   \n",
       "79848                              24.9    6.44                      0   \n",
       "79849                               0.3   66.00                      1   \n",
       "79850                               1.2   22.78                      0   \n",
       "79851                              19.0   15.31                      1   \n",
       "79852                               0.0   32.40                      0   \n",
       "\n",
       "       Count_6-12_months_late  Count_more_than_12_months_late  Marital Status  \\\n",
       "0                           0                               0               0   \n",
       "1                           0                               0               1   \n",
       "2                           0                               0               0   \n",
       "3                           0                               0               1   \n",
       "4                           3                               4               0   \n",
       "...                       ...                             ...             ...   \n",
       "79848                       0                               0               1   \n",
       "79849                       0                               0               0   \n",
       "79850                       0                               0               0   \n",
       "79851                       0                               0               0   \n",
       "79852                       0                               0               0   \n",
       "\n",
       "       Veh_Owned  No_of_dep  Accomodation  risk_score  no_of_premiums_paid  \\\n",
       "0              3          3             1      98.810                    8   \n",
       "1              3          1             1      99.066                    3   \n",
       "2              1          1             1      99.170                   14   \n",
       "3              1          1             0      99.370                   13   \n",
       "4              2          1             0      98.800                   15   \n",
       "...          ...        ...           ...         ...                  ...   \n",
       "79848          2          4             0      99.080                   10   \n",
       "79849          2          1             0      99.650                    9   \n",
       "79850          2          3             0      99.660                   11   \n",
       "79851          2          1             0      99.460                   24   \n",
       "79852          3          3             0      99.800                    7   \n",
       "\n",
       "       residence_area_type  premium  renewal  B  C  D  E  Age  \n",
       "0                        0     5400        1  0  0  0  0   31  \n",
       "1                        1    11700        1  0  0  0  0   83  \n",
       "2                        1    18000        1  0  1  0  0   44  \n",
       "3                        1    13800        1  0  0  0  0   65  \n",
       "4                        1     7500        0  0  0  0  0   53  \n",
       "...                    ...      ...      ... .. .. .. ..  ...  \n",
       "79848                    1     5700        1  0  0  0  0   70  \n",
       "79849                    1    28500        1  1  0  0  0   46  \n",
       "79850                    0    11700        1  0  0  0  0   68  \n",
       "79851                    1    11700        1  0  0  0  0   30  \n",
       "79852                    0     3300        1  0  0  1  0   54  \n",
       "\n",
       "[79853 rows x 19 columns]"
      ]
     },
     "execution_count": 16,
     "metadata": {},
     "output_type": "execute_result"
    }
   ],
   "source": [
    "dataset"
   ]
  },
  {
   "cell_type": "code",
   "execution_count": 17,
   "metadata": {
    "scrolled": true
   },
   "outputs": [
    {
     "data": {
      "text/html": [
       "<div>\n",
       "<style scoped>\n",
       "    .dataframe tbody tr th:only-of-type {\n",
       "        vertical-align: middle;\n",
       "    }\n",
       "\n",
       "    .dataframe tbody tr th {\n",
       "        vertical-align: top;\n",
       "    }\n",
       "\n",
       "    .dataframe thead th {\n",
       "        text-align: right;\n",
       "    }\n",
       "</style>\n",
       "<table border=\"1\" class=\"dataframe\">\n",
       "  <thead>\n",
       "    <tr style=\"text-align: right;\">\n",
       "      <th></th>\n",
       "      <th>perc_premium_paid_by_cash_credit</th>\n",
       "      <th>Income</th>\n",
       "      <th>Count_3-6_months_late</th>\n",
       "      <th>Count_6-12_months_late</th>\n",
       "      <th>Count_more_than_12_months_late</th>\n",
       "      <th>Marital Status</th>\n",
       "      <th>Veh_Owned</th>\n",
       "      <th>No_of_dep</th>\n",
       "      <th>Accomodation</th>\n",
       "      <th>risk_score</th>\n",
       "      <th>no_of_premiums_paid</th>\n",
       "      <th>residence_area_type</th>\n",
       "      <th>premium</th>\n",
       "      <th>renewal</th>\n",
       "      <th>B</th>\n",
       "      <th>C</th>\n",
       "      <th>D</th>\n",
       "      <th>E</th>\n",
       "      <th>Age</th>\n",
       "    </tr>\n",
       "  </thead>\n",
       "  <tbody>\n",
       "    <tr>\n",
       "      <th>count</th>\n",
       "      <td>79853.000000</td>\n",
       "      <td>79853.000000</td>\n",
       "      <td>79853.000000</td>\n",
       "      <td>79853.000000</td>\n",
       "      <td>79853.000000</td>\n",
       "      <td>79853.000000</td>\n",
       "      <td>79853.000000</td>\n",
       "      <td>79853.000000</td>\n",
       "      <td>79853.000000</td>\n",
       "      <td>79853.000000</td>\n",
       "      <td>79853.000000</td>\n",
       "      <td>79853.000000</td>\n",
       "      <td>79853.000000</td>\n",
       "      <td>79853.000000</td>\n",
       "      <td>79853.000000</td>\n",
       "      <td>79853.000000</td>\n",
       "      <td>79853.000000</td>\n",
       "      <td>79853.000000</td>\n",
       "      <td>79853.000000</td>\n",
       "    </tr>\n",
       "    <tr>\n",
       "      <th>mean</th>\n",
       "      <td>31.428774</td>\n",
       "      <td>20.884393</td>\n",
       "      <td>0.248369</td>\n",
       "      <td>0.078093</td>\n",
       "      <td>0.059935</td>\n",
       "      <td>0.498679</td>\n",
       "      <td>1.998009</td>\n",
       "      <td>2.503012</td>\n",
       "      <td>0.501296</td>\n",
       "      <td>99.067243</td>\n",
       "      <td>10.863887</td>\n",
       "      <td>0.603396</td>\n",
       "      <td>10924.507533</td>\n",
       "      <td>0.937410</td>\n",
       "      <td>0.206780</td>\n",
       "      <td>0.150765</td>\n",
       "      <td>0.094661</td>\n",
       "      <td>0.007627</td>\n",
       "      <td>51.607404</td>\n",
       "    </tr>\n",
       "    <tr>\n",
       "      <th>std</th>\n",
       "      <td>33.491457</td>\n",
       "      <td>49.658248</td>\n",
       "      <td>0.691102</td>\n",
       "      <td>0.436251</td>\n",
       "      <td>0.311840</td>\n",
       "      <td>0.500001</td>\n",
       "      <td>0.817248</td>\n",
       "      <td>1.115901</td>\n",
       "      <td>0.500001</td>\n",
       "      <td>0.725892</td>\n",
       "      <td>5.170687</td>\n",
       "      <td>0.489195</td>\n",
       "      <td>9401.676542</td>\n",
       "      <td>0.242226</td>\n",
       "      <td>0.404999</td>\n",
       "      <td>0.357821</td>\n",
       "      <td>0.292749</td>\n",
       "      <td>0.086997</td>\n",
       "      <td>14.270484</td>\n",
       "    </tr>\n",
       "    <tr>\n",
       "      <th>min</th>\n",
       "      <td>0.000000</td>\n",
       "      <td>2.400000</td>\n",
       "      <td>0.000000</td>\n",
       "      <td>0.000000</td>\n",
       "      <td>0.000000</td>\n",
       "      <td>0.000000</td>\n",
       "      <td>1.000000</td>\n",
       "      <td>1.000000</td>\n",
       "      <td>0.000000</td>\n",
       "      <td>91.900000</td>\n",
       "      <td>2.000000</td>\n",
       "      <td>0.000000</td>\n",
       "      <td>1200.000000</td>\n",
       "      <td>0.000000</td>\n",
       "      <td>0.000000</td>\n",
       "      <td>0.000000</td>\n",
       "      <td>0.000000</td>\n",
       "      <td>0.000000</td>\n",
       "      <td>21.000000</td>\n",
       "    </tr>\n",
       "    <tr>\n",
       "      <th>25%</th>\n",
       "      <td>3.400000</td>\n",
       "      <td>10.800000</td>\n",
       "      <td>0.000000</td>\n",
       "      <td>0.000000</td>\n",
       "      <td>0.000000</td>\n",
       "      <td>0.000000</td>\n",
       "      <td>1.000000</td>\n",
       "      <td>2.000000</td>\n",
       "      <td>0.000000</td>\n",
       "      <td>98.830000</td>\n",
       "      <td>7.000000</td>\n",
       "      <td>0.000000</td>\n",
       "      <td>5400.000000</td>\n",
       "      <td>1.000000</td>\n",
       "      <td>0.000000</td>\n",
       "      <td>0.000000</td>\n",
       "      <td>0.000000</td>\n",
       "      <td>0.000000</td>\n",
       "      <td>41.000000</td>\n",
       "    </tr>\n",
       "    <tr>\n",
       "      <th>50%</th>\n",
       "      <td>16.700000</td>\n",
       "      <td>16.660000</td>\n",
       "      <td>0.000000</td>\n",
       "      <td>0.000000</td>\n",
       "      <td>0.000000</td>\n",
       "      <td>0.000000</td>\n",
       "      <td>2.000000</td>\n",
       "      <td>3.000000</td>\n",
       "      <td>1.000000</td>\n",
       "      <td>99.180000</td>\n",
       "      <td>10.000000</td>\n",
       "      <td>1.000000</td>\n",
       "      <td>7500.000000</td>\n",
       "      <td>1.000000</td>\n",
       "      <td>0.000000</td>\n",
       "      <td>0.000000</td>\n",
       "      <td>0.000000</td>\n",
       "      <td>0.000000</td>\n",
       "      <td>51.000000</td>\n",
       "    </tr>\n",
       "    <tr>\n",
       "      <th>75%</th>\n",
       "      <td>53.800000</td>\n",
       "      <td>25.210000</td>\n",
       "      <td>0.000000</td>\n",
       "      <td>0.000000</td>\n",
       "      <td>0.000000</td>\n",
       "      <td>1.000000</td>\n",
       "      <td>3.000000</td>\n",
       "      <td>3.000000</td>\n",
       "      <td>1.000000</td>\n",
       "      <td>99.520000</td>\n",
       "      <td>14.000000</td>\n",
       "      <td>1.000000</td>\n",
       "      <td>13800.000000</td>\n",
       "      <td>1.000000</td>\n",
       "      <td>0.000000</td>\n",
       "      <td>0.000000</td>\n",
       "      <td>0.000000</td>\n",
       "      <td>0.000000</td>\n",
       "      <td>62.000000</td>\n",
       "    </tr>\n",
       "    <tr>\n",
       "      <th>max</th>\n",
       "      <td>100.000000</td>\n",
       "      <td>9026.260000</td>\n",
       "      <td>13.000000</td>\n",
       "      <td>17.000000</td>\n",
       "      <td>11.000000</td>\n",
       "      <td>1.000000</td>\n",
       "      <td>3.000000</td>\n",
       "      <td>4.000000</td>\n",
       "      <td>1.000000</td>\n",
       "      <td>99.890000</td>\n",
       "      <td>60.000000</td>\n",
       "      <td>1.000000</td>\n",
       "      <td>60000.000000</td>\n",
       "      <td>1.000000</td>\n",
       "      <td>1.000000</td>\n",
       "      <td>1.000000</td>\n",
       "      <td>1.000000</td>\n",
       "      <td>1.000000</td>\n",
       "      <td>103.000000</td>\n",
       "    </tr>\n",
       "  </tbody>\n",
       "</table>\n",
       "</div>"
      ],
      "text/plain": [
       "       perc_premium_paid_by_cash_credit        Income  Count_3-6_months_late  \\\n",
       "count                      79853.000000  79853.000000           79853.000000   \n",
       "mean                          31.428774     20.884393               0.248369   \n",
       "std                           33.491457     49.658248               0.691102   \n",
       "min                            0.000000      2.400000               0.000000   \n",
       "25%                            3.400000     10.800000               0.000000   \n",
       "50%                           16.700000     16.660000               0.000000   \n",
       "75%                           53.800000     25.210000               0.000000   \n",
       "max                          100.000000   9026.260000              13.000000   \n",
       "\n",
       "       Count_6-12_months_late  Count_more_than_12_months_late  Marital Status  \\\n",
       "count            79853.000000                    79853.000000    79853.000000   \n",
       "mean                 0.078093                        0.059935        0.498679   \n",
       "std                  0.436251                        0.311840        0.500001   \n",
       "min                  0.000000                        0.000000        0.000000   \n",
       "25%                  0.000000                        0.000000        0.000000   \n",
       "50%                  0.000000                        0.000000        0.000000   \n",
       "75%                  0.000000                        0.000000        1.000000   \n",
       "max                 17.000000                       11.000000        1.000000   \n",
       "\n",
       "          Veh_Owned     No_of_dep  Accomodation    risk_score  \\\n",
       "count  79853.000000  79853.000000  79853.000000  79853.000000   \n",
       "mean       1.998009      2.503012      0.501296     99.067243   \n",
       "std        0.817248      1.115901      0.500001      0.725892   \n",
       "min        1.000000      1.000000      0.000000     91.900000   \n",
       "25%        1.000000      2.000000      0.000000     98.830000   \n",
       "50%        2.000000      3.000000      1.000000     99.180000   \n",
       "75%        3.000000      3.000000      1.000000     99.520000   \n",
       "max        3.000000      4.000000      1.000000     99.890000   \n",
       "\n",
       "       no_of_premiums_paid  residence_area_type       premium       renewal  \\\n",
       "count         79853.000000         79853.000000  79853.000000  79853.000000   \n",
       "mean             10.863887             0.603396  10924.507533      0.937410   \n",
       "std               5.170687             0.489195   9401.676542      0.242226   \n",
       "min               2.000000             0.000000   1200.000000      0.000000   \n",
       "25%               7.000000             0.000000   5400.000000      1.000000   \n",
       "50%              10.000000             1.000000   7500.000000      1.000000   \n",
       "75%              14.000000             1.000000  13800.000000      1.000000   \n",
       "max              60.000000             1.000000  60000.000000      1.000000   \n",
       "\n",
       "                  B             C             D             E           Age  \n",
       "count  79853.000000  79853.000000  79853.000000  79853.000000  79853.000000  \n",
       "mean       0.206780      0.150765      0.094661      0.007627     51.607404  \n",
       "std        0.404999      0.357821      0.292749      0.086997     14.270484  \n",
       "min        0.000000      0.000000      0.000000      0.000000     21.000000  \n",
       "25%        0.000000      0.000000      0.000000      0.000000     41.000000  \n",
       "50%        0.000000      0.000000      0.000000      0.000000     51.000000  \n",
       "75%        0.000000      0.000000      0.000000      0.000000     62.000000  \n",
       "max        1.000000      1.000000      1.000000      1.000000    103.000000  "
      ]
     },
     "execution_count": 17,
     "metadata": {},
     "output_type": "execute_result"
    }
   ],
   "source": [
    "dataset.describe()"
   ]
  },
  {
   "cell_type": "code",
   "execution_count": 18,
   "metadata": {},
   "outputs": [],
   "source": [
    "dataset[\"LatePayment\"] = dataset['Count_3-6_months_late'] + dataset['Count_6-12_months_late'] + dataset['Count_more_than_12_months_late']"
   ]
  },
  {
   "cell_type": "code",
   "execution_count": 19,
   "metadata": {},
   "outputs": [],
   "source": [
    "del dataset['Count_3-6_months_late']\n",
    "del dataset['Count_6-12_months_late']\n",
    "del dataset['Count_more_than_12_months_late']\n"
   ]
  },
  {
   "cell_type": "code",
   "execution_count": 20,
   "metadata": {},
   "outputs": [
    {
     "data": {
      "image/png": "[encoded data removed]",
      "text/plain": [
       "<Figure size 864x720 with 2 Axes>"
      ]
     },
     "metadata": {
      "needs_background": "light"
     },
     "output_type": "display_data"
    }
   ],
   "source": [
    "plt.figure(figsize=(12,10))\n",
    "cor = dataset.corr()\n",
    "sns.heatmap(cor, annot=True, cmap=plt.cm.Reds)\n",
    "plt.show()"
   ]
  },
  {
   "cell_type": "markdown",
   "metadata": {},
   "source": [
    "# Explanatory Data Analysis"
   ]
  },
  {
   "cell_type": "markdown",
   "metadata": {},
   "source": [
    "# 1. Univariate Analysis"
   ]
  },
  {
   "cell_type": "code",
   "execution_count": 21,
   "metadata": {},
   "outputs": [
    {
     "data": {
      "text/html": [
       "<div>\n",
       "<style scoped>\n",
       "    .dataframe tbody tr th:only-of-type {\n",
       "        vertical-align: middle;\n",
       "    }\n",
       "\n",
       "    .dataframe tbody tr th {\n",
       "        vertical-align: top;\n",
       "    }\n",
       "\n",
       "    .dataframe thead th {\n",
       "        text-align: right;\n",
       "    }\n",
       "</style>\n",
       "<table border=\"1\" class=\"dataframe\">\n",
       "  <thead>\n",
       "    <tr style=\"text-align: right;\">\n",
       "      <th></th>\n",
       "      <th>perc_premium_paid_by_cash_credit</th>\n",
       "      <th>Income</th>\n",
       "      <th>Marital Status</th>\n",
       "      <th>Veh_Owned</th>\n",
       "      <th>No_of_dep</th>\n",
       "      <th>Accomodation</th>\n",
       "      <th>risk_score</th>\n",
       "      <th>no_of_premiums_paid</th>\n",
       "      <th>residence_area_type</th>\n",
       "      <th>premium</th>\n",
       "      <th>renewal</th>\n",
       "      <th>B</th>\n",
       "      <th>C</th>\n",
       "      <th>D</th>\n",
       "      <th>E</th>\n",
       "      <th>Age</th>\n",
       "      <th>LatePayment</th>\n",
       "    </tr>\n",
       "  </thead>\n",
       "  <tbody>\n",
       "    <tr>\n",
       "      <th>0</th>\n",
       "      <td>31.7</td>\n",
       "      <td>9.01</td>\n",
       "      <td>0</td>\n",
       "      <td>3</td>\n",
       "      <td>3</td>\n",
       "      <td>1</td>\n",
       "      <td>98.810</td>\n",
       "      <td>8</td>\n",
       "      <td>0</td>\n",
       "      <td>5400</td>\n",
       "      <td>1</td>\n",
       "      <td>0</td>\n",
       "      <td>0</td>\n",
       "      <td>0</td>\n",
       "      <td>0</td>\n",
       "      <td>31</td>\n",
       "      <td>0</td>\n",
       "    </tr>\n",
       "    <tr>\n",
       "      <th>1</th>\n",
       "      <td>0.0</td>\n",
       "      <td>15.61</td>\n",
       "      <td>1</td>\n",
       "      <td>3</td>\n",
       "      <td>1</td>\n",
       "      <td>1</td>\n",
       "      <td>99.066</td>\n",
       "      <td>3</td>\n",
       "      <td>1</td>\n",
       "      <td>11700</td>\n",
       "      <td>1</td>\n",
       "      <td>0</td>\n",
       "      <td>0</td>\n",
       "      <td>0</td>\n",
       "      <td>0</td>\n",
       "      <td>83</td>\n",
       "      <td>0</td>\n",
       "    </tr>\n",
       "    <tr>\n",
       "      <th>2</th>\n",
       "      <td>1.5</td>\n",
       "      <td>14.50</td>\n",
       "      <td>0</td>\n",
       "      <td>1</td>\n",
       "      <td>1</td>\n",
       "      <td>1</td>\n",
       "      <td>99.170</td>\n",
       "      <td>14</td>\n",
       "      <td>1</td>\n",
       "      <td>18000</td>\n",
       "      <td>1</td>\n",
       "      <td>0</td>\n",
       "      <td>1</td>\n",
       "      <td>0</td>\n",
       "      <td>0</td>\n",
       "      <td>44</td>\n",
       "      <td>1</td>\n",
       "    </tr>\n",
       "    <tr>\n",
       "      <th>3</th>\n",
       "      <td>0.0</td>\n",
       "      <td>18.76</td>\n",
       "      <td>1</td>\n",
       "      <td>1</td>\n",
       "      <td>1</td>\n",
       "      <td>0</td>\n",
       "      <td>99.370</td>\n",
       "      <td>13</td>\n",
       "      <td>1</td>\n",
       "      <td>13800</td>\n",
       "      <td>1</td>\n",
       "      <td>0</td>\n",
       "      <td>0</td>\n",
       "      <td>0</td>\n",
       "      <td>0</td>\n",
       "      <td>65</td>\n",
       "      <td>0</td>\n",
       "    </tr>\n",
       "    <tr>\n",
       "      <th>4</th>\n",
       "      <td>88.8</td>\n",
       "      <td>10.30</td>\n",
       "      <td>0</td>\n",
       "      <td>2</td>\n",
       "      <td>1</td>\n",
       "      <td>0</td>\n",
       "      <td>98.800</td>\n",
       "      <td>15</td>\n",
       "      <td>1</td>\n",
       "      <td>7500</td>\n",
       "      <td>0</td>\n",
       "      <td>0</td>\n",
       "      <td>0</td>\n",
       "      <td>0</td>\n",
       "      <td>0</td>\n",
       "      <td>53</td>\n",
       "      <td>14</td>\n",
       "    </tr>\n",
       "    <tr>\n",
       "      <th>...</th>\n",
       "      <td>...</td>\n",
       "      <td>...</td>\n",
       "      <td>...</td>\n",
       "      <td>...</td>\n",
       "      <td>...</td>\n",
       "      <td>...</td>\n",
       "      <td>...</td>\n",
       "      <td>...</td>\n",
       "      <td>...</td>\n",
       "      <td>...</td>\n",
       "      <td>...</td>\n",
       "      <td>...</td>\n",
       "      <td>...</td>\n",
       "      <td>...</td>\n",
       "      <td>...</td>\n",
       "      <td>...</td>\n",
       "      <td>...</td>\n",
       "    </tr>\n",
       "    <tr>\n",
       "      <th>79848</th>\n",
       "      <td>24.9</td>\n",
       "      <td>6.44</td>\n",
       "      <td>1</td>\n",
       "      <td>2</td>\n",
       "      <td>4</td>\n",
       "      <td>0</td>\n",
       "      <td>99.080</td>\n",
       "      <td>10</td>\n",
       "      <td>1</td>\n",
       "      <td>5700</td>\n",
       "      <td>1</td>\n",
       "      <td>0</td>\n",
       "      <td>0</td>\n",
       "      <td>0</td>\n",
       "      <td>0</td>\n",
       "      <td>70</td>\n",
       "      <td>0</td>\n",
       "    </tr>\n",
       "    <tr>\n",
       "      <th>79849</th>\n",
       "      <td>0.3</td>\n",
       "      <td>66.00</td>\n",
       "      <td>0</td>\n",
       "      <td>2</td>\n",
       "      <td>1</td>\n",
       "      <td>0</td>\n",
       "      <td>99.650</td>\n",
       "      <td>9</td>\n",
       "      <td>1</td>\n",
       "      <td>28500</td>\n",
       "      <td>1</td>\n",
       "      <td>1</td>\n",
       "      <td>0</td>\n",
       "      <td>0</td>\n",
       "      <td>0</td>\n",
       "      <td>46</td>\n",
       "      <td>1</td>\n",
       "    </tr>\n",
       "    <tr>\n",
       "      <th>79850</th>\n",
       "      <td>1.2</td>\n",
       "      <td>22.78</td>\n",
       "      <td>0</td>\n",
       "      <td>2</td>\n",
       "      <td>3</td>\n",
       "      <td>0</td>\n",
       "      <td>99.660</td>\n",
       "      <td>11</td>\n",
       "      <td>0</td>\n",
       "      <td>11700</td>\n",
       "      <td>1</td>\n",
       "      <td>0</td>\n",
       "      <td>0</td>\n",
       "      <td>0</td>\n",
       "      <td>0</td>\n",
       "      <td>68</td>\n",
       "      <td>0</td>\n",
       "    </tr>\n",
       "    <tr>\n",
       "      <th>79851</th>\n",
       "      <td>19.0</td>\n",
       "      <td>15.31</td>\n",
       "      <td>0</td>\n",
       "      <td>2</td>\n",
       "      <td>1</td>\n",
       "      <td>0</td>\n",
       "      <td>99.460</td>\n",
       "      <td>24</td>\n",
       "      <td>1</td>\n",
       "      <td>11700</td>\n",
       "      <td>1</td>\n",
       "      <td>0</td>\n",
       "      <td>0</td>\n",
       "      <td>0</td>\n",
       "      <td>0</td>\n",
       "      <td>30</td>\n",
       "      <td>1</td>\n",
       "    </tr>\n",
       "    <tr>\n",
       "      <th>79852</th>\n",
       "      <td>0.0</td>\n",
       "      <td>32.40</td>\n",
       "      <td>0</td>\n",
       "      <td>3</td>\n",
       "      <td>3</td>\n",
       "      <td>0</td>\n",
       "      <td>99.800</td>\n",
       "      <td>7</td>\n",
       "      <td>0</td>\n",
       "      <td>3300</td>\n",
       "      <td>1</td>\n",
       "      <td>0</td>\n",
       "      <td>0</td>\n",
       "      <td>1</td>\n",
       "      <td>0</td>\n",
       "      <td>54</td>\n",
       "      <td>0</td>\n",
       "    </tr>\n",
       "  </tbody>\n",
       "</table>\n",
       "<p>79853 rows × 17 columns</p>\n",
       "</div>"
      ],
      "text/plain": [
       "       perc_premium_paid_by_cash_credit  Income  Marital Status  Veh_Owned  \\\n",
       "0                                  31.7    9.01               0          3   \n",
       "1                                   0.0   15.61               1          3   \n",
       "2                                   1.5   14.50               0          1   \n",
       "3                                   0.0   18.76               1          1   \n",
       "4                                  88.8   10.30               0          2   \n",
       "...                                 ...     ...             ...        ...   \n",
       "79848                              24.9    6.44               1          2   \n",
       "79849                               0.3   66.00               0          2   \n",
       "79850                               1.2   22.78               0          2   \n",
       "79851                              19.0   15.31               0          2   \n",
       "79852                               0.0   32.40               0          3   \n",
       "\n",
       "       No_of_dep  Accomodation  risk_score  no_of_premiums_paid  \\\n",
       "0              3             1      98.810                    8   \n",
       "1              1             1      99.066                    3   \n",
       "2              1             1      99.170                   14   \n",
       "3              1             0      99.370                   13   \n",
       "4              1             0      98.800                   15   \n",
       "...          ...           ...         ...                  ...   \n",
       "79848          4             0      99.080                   10   \n",
       "79849          1             0      99.650                    9   \n",
       "79850          3             0      99.660                   11   \n",
       "79851          1             0      99.460                   24   \n",
       "79852          3             0      99.800                    7   \n",
       "\n",
       "       residence_area_type  premium  renewal  B  C  D  E  Age  LatePayment  \n",
       "0                        0     5400        1  0  0  0  0   31            0  \n",
       "1                        1    11700        1  0  0  0  0   83            0  \n",
       "2                        1    18000        1  0  1  0  0   44            1  \n",
       "3                        1    13800        1  0  0  0  0   65            0  \n",
       "4                        1     7500        0  0  0  0  0   53           14  \n",
       "...                    ...      ...      ... .. .. .. ..  ...          ...  \n",
       "79848                    1     5700        1  0  0  0  0   70            0  \n",
       "79849                    1    28500        1  1  0  0  0   46            1  \n",
       "79850                    0    11700        1  0  0  0  0   68            0  \n",
       "79851                    1    11700        1  0  0  0  0   30            1  \n",
       "79852                    0     3300        1  0  0  1  0   54            0  \n",
       "\n",
       "[79853 rows x 17 columns]"
      ]
     },
     "execution_count": 21,
     "metadata": {},
     "output_type": "execute_result"
    }
   ],
   "source": [
    "dataset"
   ]
  },
  {
   "cell_type": "code",
   "execution_count": 22,
   "metadata": {},
   "outputs": [
    {
     "data": {
      "text/plain": [
       "<matplotlib.axes._subplots.AxesSubplot at 0x1f9d8492948>"
      ]
     },
     "execution_count": 22,
     "metadata": {},
     "output_type": "execute_result"
    },
    {
     "data": {
      "image/png": "[encoded data removed]",
      "text/plain": [
       "<Figure size 432x288 with 1 Axes>"
      ]
     },
     "metadata": {
      "needs_background": "light"
     },
     "output_type": "display_data"
    }
   ],
   "source": [
    "import seaborn as sns\n",
    "import matplotlib.pyplot as plt\n",
    "\n",
    "sns.countplot(hue =dataset[\"Veh_Owned\"], x = dataset[\"renewal\"])"
   ]
  },
  {
   "cell_type": "code",
   "execution_count": 23,
   "metadata": {},
   "outputs": [
    {
     "data": {
      "text/plain": [
       "Text(0.5, 1.0, 'Histogram of CashPercent')"
      ]
     },
     "execution_count": 23,
     "metadata": {},
     "output_type": "execute_result"
    },
    {
     "data": {
      "image/png": "[encoded data removed]",
      "text/plain": [
       "<Figure size 432x288 with 1 Axes>"
      ]
     },
     "metadata": {
      "needs_background": "light"
     },
     "output_type": "display_data"
    }
   ],
   "source": [
    "sns.histplot(data = dataset['perc_premium_paid_by_cash_credit']).set_title(\"Histogram of CashPercent\")\n",
    "\n",
    "# Data has outliers"
   ]
  },
  {
   "cell_type": "code",
   "execution_count": 24,
   "metadata": {},
   "outputs": [
    {
     "name": "stdout",
     "output_type": "stream",
     "text": [
      "Mean of Cash percent is: 31.428774122449784 %\n"
     ]
    },
    {
     "data": {
      "image/png": "[encoded data removed]",
      "text/plain": [
       "<Figure size 432x288 with 1 Axes>"
      ]
     },
     "metadata": {
      "needs_background": "light"
     },
     "output_type": "display_data"
    }
   ],
   "source": [
    "sns.boxplot(data = dataset['perc_premium_paid_by_cash_credit']).set_title(\"Boxplot of CashPercent\")\n",
    "\n",
    "print(\"Mean of Cash percent is:\", dataset['perc_premium_paid_by_cash_credit'].mean(), '%' )"
   ]
  },
  {
   "cell_type": "code",
   "execution_count": 25,
   "metadata": {},
   "outputs": [
    {
     "name": "stdout",
     "output_type": "stream",
     "text": [
      "Mean of age is: 51.607403604122574\n",
      "Median of Age is: 51.0\n"
     ]
    },
    {
     "data": {
      "image/png": "[encoded data removed]",
      "text/plain": [
       "<Figure size 432x288 with 1 Axes>"
      ]
     },
     "metadata": {
      "needs_background": "light"
     },
     "output_type": "display_data"
    }
   ],
   "source": [
    "sns.histplot(data = dataset['Age'],bins = 15, color = 'w').set_title(\"Histogram of age\")\n",
    "\n",
    "print(\"Mean of age is:\", dataset['Age'].mean())\n",
    "print(\"Median of Age is:\", dataset['Age'].median())"
   ]
  },
  {
   "cell_type": "code",
   "execution_count": 26,
   "metadata": {},
   "outputs": [
    {
     "data": {
      "text/plain": [
       "Text(0.5, 1.0, 'Boxplot of Age')"
      ]
     },
     "execution_count": 26,
     "metadata": {},
     "output_type": "execute_result"
    },
    {
     "data": {
      "image/png": "[encoded data removed]",
      "text/plain": [
       "<Figure size 432x288 with 1 Axes>"
      ]
     },
     "metadata": {
      "needs_background": "light"
     },
     "output_type": "display_data"
    }
   ],
   "source": [
    "sns.boxplot(data = dataset['Age'], color = 'w').set_title(\"Boxplot of Age\")"
   ]
  },
  {
   "cell_type": "code",
   "execution_count": 30,
   "metadata": {},
   "outputs": [
    {
     "data": {
      "text/plain": [
       "Text(0.5, 1.0, 'Histogram of Income')"
      ]
     },
     "execution_count": 30,
     "metadata": {},
     "output_type": "execute_result"
    },
    {
     "data": {
      "image/png": "[encoded data removed]",
      "text/plain": [
       "<Figure size 432x288 with 1 Axes>"
      ]
     },
     "metadata": {
      "needs_background": "light"
     },
     "output_type": "display_data"
    }
   ],
   "source": [
    "sns.histplot(data = dataset['Income']).set_title(\"Histogram of Income\")\n",
    "\n",
    "# Data has too many outliers"
   ]
  },
  {
   "cell_type": "code",
   "execution_count": 31,
   "metadata": {},
   "outputs": [
    {
     "data": {
      "text/plain": [
       "Text(0.5, 1.0, 'Boxplot of Income')"
      ]
     },
     "execution_count": 31,
     "metadata": {},
     "output_type": "execute_result"
    },
    {
     "data": {
      "image/png": "[encoded data removed]",
      "text/plain": [
       "<Figure size 432x288 with 1 Axes>"
      ]
     },
     "metadata": {
      "needs_background": "light"
     },
     "output_type": "display_data"
    }
   ],
   "source": [
    "sns.boxplot(data = dataset['Income']).set_title(\"Boxplot of Income\")\n"
   ]
  },
  {
   "cell_type": "code",
   "execution_count": 32,
   "metadata": {},
   "outputs": [],
   "source": [
    "#Income Column has too many Outliers"
   ]
  },
  {
   "cell_type": "code",
   "execution_count": 33,
   "metadata": {},
   "outputs": [
    {
     "name": "stdout",
     "output_type": "stream",
     "text": [
      "Mean is: 0.38639750541620227\n"
     ]
    },
    {
     "data": {
      "image/png": "[encoded data removed]",
      "text/plain": [
       "<Figure size 432x288 with 1 Axes>"
      ]
     },
     "metadata": {
      "needs_background": "light"
     },
     "output_type": "display_data"
    }
   ],
   "source": [
    "sns.histplot(data = dataset['LatePayment']).set_title(\"Histogram of LatePayment\")\n",
    "\n",
    "print(\"Mean is:\", dataset[\"LatePayment\"].mean())"
   ]
  },
  {
   "cell_type": "code",
   "execution_count": 34,
   "metadata": {},
   "outputs": [
    {
     "data": {
      "text/plain": [
       "Text(0.5, 1.0, 'Boxplot of LatePayment')"
      ]
     },
     "execution_count": 34,
     "metadata": {},
     "output_type": "execute_result"
    },
    {
     "data": {
      "image/png": "[encoded data removed]",
      "text/plain": [
       "<Figure size 432x288 with 1 Axes>"
      ]
     },
     "metadata": {
      "needs_background": "light"
     },
     "output_type": "display_data"
    }
   ],
   "source": [
    "sns.boxplot(data = dataset['LatePayment']).set_title(\"Boxplot of LatePayment\")\n"
   ]
  },
  {
   "cell_type": "code",
   "execution_count": 35,
   "metadata": {},
   "outputs": [
    {
     "data": {
      "text/plain": [
       "Text(0.5, 1.0, 'Histogram of Risk_Score')"
      ]
     },
     "execution_count": 35,
     "metadata": {},
     "output_type": "execute_result"
    },
    {
     "data": {
      "image/png": "[encoded data removed]",
      "text/plain": [
       "<Figure size 432x288 with 1 Axes>"
      ]
     },
     "metadata": {
      "needs_background": "light"
     },
     "output_type": "display_data"
    }
   ],
   "source": [
    "sns.histplot(data = dataset['risk_score'], bins = 15).set_title(\"Histogram of Risk_Score\")\n"
   ]
  },
  {
   "cell_type": "code",
   "execution_count": 36,
   "metadata": {},
   "outputs": [
    {
     "data": {
      "text/plain": [
       "Text(0.5, 1.0, 'Boxplot of risk_score')"
      ]
     },
     "execution_count": 36,
     "metadata": {},
     "output_type": "execute_result"
    },
    {
     "data": {
      "image/png": "[encoded data removed]",
      "text/plain": [
       "<Figure size 432x288 with 1 Axes>"
      ]
     },
     "metadata": {
      "needs_background": "light"
     },
     "output_type": "display_data"
    }
   ],
   "source": [
    "sns.boxplot(data = dataset['risk_score'], color = 'w' ).set_title(\"Boxplot of risk_score\")\n"
   ]
  },
  {
   "cell_type": "code",
   "execution_count": 37,
   "metadata": {},
   "outputs": [
    {
     "data": {
      "text/plain": [
       "Text(0.5, 1.0, 'Histogram of Vehicle Owned')"
      ]
     },
     "execution_count": 37,
     "metadata": {},
     "output_type": "execute_result"
    },
    {
     "data": {
      "image/png": "[encoded data removed]",
      "text/plain": [
       "<Figure size 432x288 with 1 Axes>"
      ]
     },
     "metadata": {
      "needs_background": "light"
     },
     "output_type": "display_data"
    }
   ],
   "source": [
    "sns.histplot(data = dataset['Veh_Owned'], bins = 15, color = 'w').set_title(\"Histogram of Vehicle Owned\")\n"
   ]
  },
  {
   "cell_type": "code",
   "execution_count": 38,
   "metadata": {},
   "outputs": [
    {
     "data": {
      "text/plain": [
       "Text(0.5, 1.0, 'Histogram of Number of Department')"
      ]
     },
     "execution_count": 38,
     "metadata": {},
     "output_type": "execute_result"
    },
    {
     "data": {
      "image/png": "[encoded data removed]",
      "text/plain": [
       "<Figure size 432x288 with 1 Axes>"
      ]
     },
     "metadata": {
      "needs_background": "light"
     },
     "output_type": "display_data"
    }
   ],
   "source": [
    "sns.histplot(data = dataset['No_of_dep'], bins = 15, color  = 'w').set_title(\"Histogram of Number of Department\")\n"
   ]
  },
  {
   "cell_type": "code",
   "execution_count": 39,
   "metadata": {},
   "outputs": [
    {
     "data": {
      "text/plain": [
       "Text(0.5, 1.0, 'Histogram of Accomodation')"
      ]
     },
     "execution_count": 39,
     "metadata": {},
     "output_type": "execute_result"
    },
    {
     "data": {
      "image/png": "[encoded data removed]",
      "text/plain": [
       "<Figure size 432x288 with 1 Axes>"
      ]
     },
     "metadata": {
      "needs_background": "light"
     },
     "output_type": "display_data"
    }
   ],
   "source": [
    "sns.histplot(data = dataset['Accomodation'], bins  = 15, color = 'w').set_title(\"Histogram of Accomodation\")\n"
   ]
  },
  {
   "cell_type": "code",
   "execution_count": 40,
   "metadata": {
    "scrolled": true
   },
   "outputs": [
    {
     "data": {
      "text/plain": [
       "Text(0.5, 1.0, 'Histogram of Marital Status')"
      ]
     },
     "execution_count": 40,
     "metadata": {},
     "output_type": "execute_result"
    },
    {
     "data": {
      "image/png": "[encoded data removed]",
      "text/plain": [
       "<Figure size 432x288 with 1 Axes>"
      ]
     },
     "metadata": {
      "needs_background": "light"
     },
     "output_type": "display_data"
    }
   ],
   "source": [
    "sns.histplot(data = dataset['Marital Status'], bins = 15, color = 'w').set_title(\"Histogram of Marital Status\")\n"
   ]
  },
  {
   "cell_type": "code",
   "execution_count": 41,
   "metadata": {
    "scrolled": true
   },
   "outputs": [
    {
     "data": {
      "text/plain": [
       "Text(0.5, 1.0, 'Histogram of Renewal')"
      ]
     },
     "execution_count": 41,
     "metadata": {},
     "output_type": "execute_result"
    },
    {
     "data": {
      "image/png": "[encoded data removed]",
      "text/plain": [
       "<Figure size 432x288 with 1 Axes>"
      ]
     },
     "metadata": {
      "needs_background": "light"
     },
     "output_type": "display_data"
    }
   ],
   "source": [
    "sns.histplot(data = dataset['renewal'], bins = 15, color = 'w').set_title(\"Histogram of Renewal\")\n"
   ]
  },
  {
   "cell_type": "code",
   "execution_count": null,
   "metadata": {},
   "outputs": [],
   "source": [
    "# Data is too much unbalanced so smote will be used."
   ]
  },
  {
   "cell_type": "markdown",
   "metadata": {},
   "source": [
    "# 2. Bivariate Data Analysis"
   ]
  },
  {
   "cell_type": "code",
   "execution_count": 42,
   "metadata": {},
   "outputs": [
    {
     "data": {
      "text/plain": [
       "<matplotlib.axes._subplots.AxesSubplot at 0x1f9ed3ab148>"
      ]
     },
     "execution_count": 42,
     "metadata": {},
     "output_type": "execute_result"
    },
    {
     "data": {
      "image/png": "[encoded data removed]",
      "text/plain": [
       "<Figure size 432x288 with 1 Axes>"
      ]
     },
     "metadata": {
      "needs_background": "light"
     },
     "output_type": "display_data"
    }
   ],
   "source": [
    "sns.boxplot(x = \"Marital Status\", y = \"Income\", data  = dataset)"
   ]
  },
  {
   "cell_type": "code",
   "execution_count": 43,
   "metadata": {},
   "outputs": [
    {
     "data": {
      "text/plain": [
       "<matplotlib.axes._subplots.AxesSubplot at 0x1f9ed3f5788>"
      ]
     },
     "execution_count": 43,
     "metadata": {},
     "output_type": "execute_result"
    },
    {
     "data": {
      "image/png": "[encoded data removed]",
      "text/plain": [
       "<Figure size 432x288 with 1 Axes>"
      ]
     },
     "metadata": {
      "needs_background": "light"
     },
     "output_type": "display_data"
    }
   ],
   "source": [
    "sns.boxplot(x = \"Marital Status\", y = \"LatePayment\", data  = dataset)"
   ]
  },
  {
   "cell_type": "code",
   "execution_count": 44,
   "metadata": {},
   "outputs": [
    {
     "data": {
      "text/plain": [
       "<matplotlib.axes._subplots.AxesSubplot at 0x1f9ed483ac8>"
      ]
     },
     "execution_count": 44,
     "metadata": {},
     "output_type": "execute_result"
    },
    {
     "data": {
      "image/png": "[encoded data removed]",
      "text/plain": [
       "<Figure size 432x288 with 1 Axes>"
      ]
     },
     "metadata": {
      "needs_background": "light"
     },
     "output_type": "display_data"
    }
   ],
   "source": [
    "sns.boxplot(x = \"Marital Status\", y = \"no_of_premiums_paid\", data  = dataset)"
   ]
  },
  {
   "cell_type": "code",
   "execution_count": 45,
   "metadata": {},
   "outputs": [
    {
     "data": {
      "text/plain": [
       "<matplotlib.axes._subplots.AxesSubplot at 0x1f9ed5105c8>"
      ]
     },
     "execution_count": 45,
     "metadata": {},
     "output_type": "execute_result"
    },
    {
     "data": {
      "image/png": "[encoded data removed]",
      "text/plain": [
       "<Figure size 432x288 with 1 Axes>"
      ]
     },
     "metadata": {
      "needs_background": "light"
     },
     "output_type": "display_data"
    }
   ],
   "source": [
    "sns.boxplot(x = \"Marital Status\", y = \"risk_score\", data  = dataset)"
   ]
  },
  {
   "cell_type": "code",
   "execution_count": 46,
   "metadata": {},
   "outputs": [
    {
     "data": {
      "text/plain": [
       "<matplotlib.axes._subplots.AxesSubplot at 0x1f9ed566c08>"
      ]
     },
     "execution_count": 46,
     "metadata": {},
     "output_type": "execute_result"
    },
    {
     "data": {
      "image/png": "[encoded data removed]",
      "text/plain": [
       "<Figure size 432x288 with 1 Axes>"
      ]
     },
     "metadata": {
      "needs_background": "light"
     },
     "output_type": "display_data"
    }
   ],
   "source": [
    "sns.boxplot(x = \"Marital Status\", y = \"LatePayment\", data  = dataset)"
   ]
  },
  {
   "cell_type": "markdown",
   "metadata": {},
   "source": [
    "# Data Normalization"
   ]
  },
  {
   "cell_type": "code",
   "execution_count": 49,
   "metadata": {},
   "outputs": [],
   "source": [
    "from sklearn.preprocessing import StandardScaler"
   ]
  },
  {
   "cell_type": "code",
   "execution_count": 50,
   "metadata": {},
   "outputs": [
    {
     "data": {
      "text/html": [
       "<div>\n",
       "<style scoped>\n",
       "    .dataframe tbody tr th:only-of-type {\n",
       "        vertical-align: middle;\n",
       "    }\n",
       "\n",
       "    .dataframe tbody tr th {\n",
       "        vertical-align: top;\n",
       "    }\n",
       "\n",
       "    .dataframe thead th {\n",
       "        text-align: right;\n",
       "    }\n",
       "</style>\n",
       "<table border=\"1\" class=\"dataframe\">\n",
       "  <thead>\n",
       "    <tr style=\"text-align: right;\">\n",
       "      <th></th>\n",
       "      <th>perc_premium_paid_by_cash_credit</th>\n",
       "      <th>Income</th>\n",
       "      <th>Marital Status</th>\n",
       "      <th>Veh_Owned</th>\n",
       "      <th>No_of_dep</th>\n",
       "      <th>Accomodation</th>\n",
       "      <th>risk_score</th>\n",
       "      <th>no_of_premiums_paid</th>\n",
       "      <th>residence_area_type</th>\n",
       "      <th>premium</th>\n",
       "      <th>renewal</th>\n",
       "      <th>B</th>\n",
       "      <th>C</th>\n",
       "      <th>D</th>\n",
       "      <th>E</th>\n",
       "      <th>Age</th>\n",
       "      <th>LatePayment</th>\n",
       "    </tr>\n",
       "  </thead>\n",
       "  <tbody>\n",
       "    <tr>\n",
       "      <th>0</th>\n",
       "      <td>31.7</td>\n",
       "      <td>9.01</td>\n",
       "      <td>0</td>\n",
       "      <td>3</td>\n",
       "      <td>3</td>\n",
       "      <td>1</td>\n",
       "      <td>98.810</td>\n",
       "      <td>8</td>\n",
       "      <td>0</td>\n",
       "      <td>5400</td>\n",
       "      <td>1</td>\n",
       "      <td>0</td>\n",
       "      <td>0</td>\n",
       "      <td>0</td>\n",
       "      <td>0</td>\n",
       "      <td>31</td>\n",
       "      <td>0</td>\n",
       "    </tr>\n",
       "    <tr>\n",
       "      <th>1</th>\n",
       "      <td>0.0</td>\n",
       "      <td>15.61</td>\n",
       "      <td>1</td>\n",
       "      <td>3</td>\n",
       "      <td>1</td>\n",
       "      <td>1</td>\n",
       "      <td>99.066</td>\n",
       "      <td>3</td>\n",
       "      <td>1</td>\n",
       "      <td>11700</td>\n",
       "      <td>1</td>\n",
       "      <td>0</td>\n",
       "      <td>0</td>\n",
       "      <td>0</td>\n",
       "      <td>0</td>\n",
       "      <td>83</td>\n",
       "      <td>0</td>\n",
       "    </tr>\n",
       "    <tr>\n",
       "      <th>2</th>\n",
       "      <td>1.5</td>\n",
       "      <td>14.50</td>\n",
       "      <td>0</td>\n",
       "      <td>1</td>\n",
       "      <td>1</td>\n",
       "      <td>1</td>\n",
       "      <td>99.170</td>\n",
       "      <td>14</td>\n",
       "      <td>1</td>\n",
       "      <td>18000</td>\n",
       "      <td>1</td>\n",
       "      <td>0</td>\n",
       "      <td>1</td>\n",
       "      <td>0</td>\n",
       "      <td>0</td>\n",
       "      <td>44</td>\n",
       "      <td>1</td>\n",
       "    </tr>\n",
       "    <tr>\n",
       "      <th>3</th>\n",
       "      <td>0.0</td>\n",
       "      <td>18.76</td>\n",
       "      <td>1</td>\n",
       "      <td>1</td>\n",
       "      <td>1</td>\n",
       "      <td>0</td>\n",
       "      <td>99.370</td>\n",
       "      <td>13</td>\n",
       "      <td>1</td>\n",
       "      <td>13800</td>\n",
       "      <td>1</td>\n",
       "      <td>0</td>\n",
       "      <td>0</td>\n",
       "      <td>0</td>\n",
       "      <td>0</td>\n",
       "      <td>65</td>\n",
       "      <td>0</td>\n",
       "    </tr>\n",
       "    <tr>\n",
       "      <th>4</th>\n",
       "      <td>88.8</td>\n",
       "      <td>10.30</td>\n",
       "      <td>0</td>\n",
       "      <td>2</td>\n",
       "      <td>1</td>\n",
       "      <td>0</td>\n",
       "      <td>98.800</td>\n",
       "      <td>15</td>\n",
       "      <td>1</td>\n",
       "      <td>7500</td>\n",
       "      <td>0</td>\n",
       "      <td>0</td>\n",
       "      <td>0</td>\n",
       "      <td>0</td>\n",
       "      <td>0</td>\n",
       "      <td>53</td>\n",
       "      <td>14</td>\n",
       "    </tr>\n",
       "    <tr>\n",
       "      <th>...</th>\n",
       "      <td>...</td>\n",
       "      <td>...</td>\n",
       "      <td>...</td>\n",
       "      <td>...</td>\n",
       "      <td>...</td>\n",
       "      <td>...</td>\n",
       "      <td>...</td>\n",
       "      <td>...</td>\n",
       "      <td>...</td>\n",
       "      <td>...</td>\n",
       "      <td>...</td>\n",
       "      <td>...</td>\n",
       "      <td>...</td>\n",
       "      <td>...</td>\n",
       "      <td>...</td>\n",
       "      <td>...</td>\n",
       "      <td>...</td>\n",
       "    </tr>\n",
       "    <tr>\n",
       "      <th>79848</th>\n",
       "      <td>24.9</td>\n",
       "      <td>6.44</td>\n",
       "      <td>1</td>\n",
       "      <td>2</td>\n",
       "      <td>4</td>\n",
       "      <td>0</td>\n",
       "      <td>99.080</td>\n",
       "      <td>10</td>\n",
       "      <td>1</td>\n",
       "      <td>5700</td>\n",
       "      <td>1</td>\n",
       "      <td>0</td>\n",
       "      <td>0</td>\n",
       "      <td>0</td>\n",
       "      <td>0</td>\n",
       "      <td>70</td>\n",
       "      <td>0</td>\n",
       "    </tr>\n",
       "    <tr>\n",
       "      <th>79849</th>\n",
       "      <td>0.3</td>\n",
       "      <td>66.00</td>\n",
       "      <td>0</td>\n",
       "      <td>2</td>\n",
       "      <td>1</td>\n",
       "      <td>0</td>\n",
       "      <td>99.650</td>\n",
       "      <td>9</td>\n",
       "      <td>1</td>\n",
       "      <td>28500</td>\n",
       "      <td>1</td>\n",
       "      <td>1</td>\n",
       "      <td>0</td>\n",
       "      <td>0</td>\n",
       "      <td>0</td>\n",
       "      <td>46</td>\n",
       "      <td>1</td>\n",
       "    </tr>\n",
       "    <tr>\n",
       "      <th>79850</th>\n",
       "      <td>1.2</td>\n",
       "      <td>22.78</td>\n",
       "      <td>0</td>\n",
       "      <td>2</td>\n",
       "      <td>3</td>\n",
       "      <td>0</td>\n",
       "      <td>99.660</td>\n",
       "      <td>11</td>\n",
       "      <td>0</td>\n",
       "      <td>11700</td>\n",
       "      <td>1</td>\n",
       "      <td>0</td>\n",
       "      <td>0</td>\n",
       "      <td>0</td>\n",
       "      <td>0</td>\n",
       "      <td>68</td>\n",
       "      <td>0</td>\n",
       "    </tr>\n",
       "    <tr>\n",
       "      <th>79851</th>\n",
       "      <td>19.0</td>\n",
       "      <td>15.31</td>\n",
       "      <td>0</td>\n",
       "      <td>2</td>\n",
       "      <td>1</td>\n",
       "      <td>0</td>\n",
       "      <td>99.460</td>\n",
       "      <td>24</td>\n",
       "      <td>1</td>\n",
       "      <td>11700</td>\n",
       "      <td>1</td>\n",
       "      <td>0</td>\n",
       "      <td>0</td>\n",
       "      <td>0</td>\n",
       "      <td>0</td>\n",
       "      <td>30</td>\n",
       "      <td>1</td>\n",
       "    </tr>\n",
       "    <tr>\n",
       "      <th>79852</th>\n",
       "      <td>0.0</td>\n",
       "      <td>32.40</td>\n",
       "      <td>0</td>\n",
       "      <td>3</td>\n",
       "      <td>3</td>\n",
       "      <td>0</td>\n",
       "      <td>99.800</td>\n",
       "      <td>7</td>\n",
       "      <td>0</td>\n",
       "      <td>3300</td>\n",
       "      <td>1</td>\n",
       "      <td>0</td>\n",
       "      <td>0</td>\n",
       "      <td>1</td>\n",
       "      <td>0</td>\n",
       "      <td>54</td>\n",
       "      <td>0</td>\n",
       "    </tr>\n",
       "  </tbody>\n",
       "</table>\n",
       "<p>79853 rows × 17 columns</p>\n",
       "</div>"
      ],
      "text/plain": [
       "       perc_premium_paid_by_cash_credit  Income  Marital Status  Veh_Owned  \\\n",
       "0                                  31.7    9.01               0          3   \n",
       "1                                   0.0   15.61               1          3   \n",
       "2                                   1.5   14.50               0          1   \n",
       "3                                   0.0   18.76               1          1   \n",
       "4                                  88.8   10.30               0          2   \n",
       "...                                 ...     ...             ...        ...   \n",
       "79848                              24.9    6.44               1          2   \n",
       "79849                               0.3   66.00               0          2   \n",
       "79850                               1.2   22.78               0          2   \n",
       "79851                              19.0   15.31               0          2   \n",
       "79852                               0.0   32.40               0          3   \n",
       "\n",
       "       No_of_dep  Accomodation  risk_score  no_of_premiums_paid  \\\n",
       "0              3             1      98.810                    8   \n",
       "1              1             1      99.066                    3   \n",
       "2              1             1      99.170                   14   \n",
       "3              1             0      99.370                   13   \n",
       "4              1             0      98.800                   15   \n",
       "...          ...           ...         ...                  ...   \n",
       "79848          4             0      99.080                   10   \n",
       "79849          1             0      99.650                    9   \n",
       "79850          3             0      99.660                   11   \n",
       "79851          1             0      99.460                   24   \n",
       "79852          3             0      99.800                    7   \n",
       "\n",
       "       residence_area_type  premium  renewal  B  C  D  E  Age  LatePayment  \n",
       "0                        0     5400        1  0  0  0  0   31            0  \n",
       "1                        1    11700        1  0  0  0  0   83            0  \n",
       "2                        1    18000        1  0  1  0  0   44            1  \n",
       "3                        1    13800        1  0  0  0  0   65            0  \n",
       "4                        1     7500        0  0  0  0  0   53           14  \n",
       "...                    ...      ...      ... .. .. .. ..  ...          ...  \n",
       "79848                    1     5700        1  0  0  0  0   70            0  \n",
       "79849                    1    28500        1  1  0  0  0   46            1  \n",
       "79850                    0    11700        1  0  0  0  0   68            0  \n",
       "79851                    1    11700        1  0  0  0  0   30            1  \n",
       "79852                    0     3300        1  0  0  1  0   54            0  \n",
       "\n",
       "[79853 rows x 17 columns]"
      ]
     },
     "metadata": {},
     "output_type": "display_data"
    }
   ],
   "source": [
    "display(dataset)"
   ]
  },
  {
   "cell_type": "code",
   "execution_count": 51,
   "metadata": {},
   "outputs": [],
   "source": [
    "y = dataset['renewal'].values"
   ]
  },
  {
   "cell_type": "code",
   "execution_count": 52,
   "metadata": {},
   "outputs": [
    {
     "data": {
      "text/plain": [
       "array([1, 1, 1, ..., 1, 1, 1], dtype=int64)"
      ]
     },
     "execution_count": 52,
     "metadata": {},
     "output_type": "execute_result"
    }
   ],
   "source": [
    "y"
   ]
  },
  {
   "cell_type": "code",
   "execution_count": 53,
   "metadata": {},
   "outputs": [],
   "source": [
    "x = dataset.drop('renewal',axis=1).values"
   ]
  },
  {
   "cell_type": "code",
   "execution_count": 55,
   "metadata": {},
   "outputs": [
    {
     "data": {
      "text/plain": [
       "array([[ 0.00809841, -0.23912376, -0.99736113, ..., -0.08766484,\n",
       "        -1.4440668 , -0.37036361],\n",
       "       [-0.93841756, -0.10621449,  1.00264586, ..., -0.08766484,\n",
       "         2.19984075, -0.37036361],\n",
       "       [-0.89362974, -0.12856741, -0.99736113, ..., -0.08766484,\n",
       "        -0.53308991,  0.58814053],\n",
       "       ...,\n",
       "       [-0.9025873 ,  0.0381733 , -0.99736113, ..., -0.08766484,\n",
       "         1.14871357, -0.37036361],\n",
       "       [-0.37110515, -0.11225582, -0.99736113, ..., -0.08766484,\n",
       "        -1.51414195,  0.58814053],\n",
       "       [-0.93841756,  0.23189863, -0.99736113, ..., -0.08766484,\n",
       "         0.16766154, -0.37036361]])"
      ]
     },
     "execution_count": 55,
     "metadata": {},
     "output_type": "execute_result"
    }
   ],
   "source": [
    "ss = StandardScaler()\n",
    "x = ss.fit_transform(x)\n",
    "x"
   ]
  },
  {
   "cell_type": "markdown",
   "metadata": {},
   "source": [
    "Splitting Data"
   ]
  },
  {
   "cell_type": "code",
   "execution_count": 56,
   "metadata": {},
   "outputs": [],
   "source": [
    "from sklearn.model_selection import train_test_split\n",
    "\n",
    "# split into 70:30 ratio\n",
    "x_train, x_test, y_train, y_test = train_test_split(x, y, test_size= 0.300, random_state= 42)"
   ]
  },
  {
   "cell_type": "markdown",
   "metadata": {},
   "source": [
    "\n",
    "# SMOTE"
   ]
  },
  {
   "cell_type": "code",
   "execution_count": 57,
   "metadata": {},
   "outputs": [
    {
     "name": "stdout",
     "output_type": "stream",
     "text": [
      "Number X_train dataset:  (55897, 16)\n",
      "Number y_train dataset:  (55897,)\n",
      "Number X_test dataset:  (23956, 16)\n",
      "Number y_test dataset:  (23956,)\n"
     ]
    }
   ],
   "source": [
    "from sklearn.model_selection import train_test_split\n",
    "\n",
    "\n",
    "# describes info about train and test set\n",
    "print(\"Number X_train dataset: \", x_train.shape)\n",
    "print(\"Number y_train dataset: \", y_train.shape)\n",
    "print(\"Number X_test dataset: \", x_test.shape)\n",
    "print(\"Number y_test dataset: \", y_test.shape)\n"
   ]
  },
  {
   "cell_type": "code",
   "execution_count": 58,
   "metadata": {
    "scrolled": true
   },
   "outputs": [
    {
     "data": {
      "text/plain": [
       "1    74855\n",
       "0     4998\n",
       "Name: renewal, dtype: int64"
      ]
     },
     "execution_count": 58,
     "metadata": {},
     "output_type": "execute_result"
    }
   ],
   "source": [
    "dataset[\"renewal\"].value_counts()"
   ]
  },
  {
   "cell_type": "code",
   "execution_count": 59,
   "metadata": {},
   "outputs": [
    {
     "name": "stdout",
     "output_type": "stream",
     "text": [
      "6.259000914179805\n"
     ]
    }
   ],
   "source": [
    "print(sum(dataset[\"renewal\"]==0)/len(dataset)*100)"
   ]
  },
  {
   "cell_type": "code",
   "execution_count": 60,
   "metadata": {},
   "outputs": [],
   "source": [
    "#So In the dataset there is a clear class imbalance as renewal has only 6% of cases which has defaulted and\n",
    "#remaining are No default cases."
   ]
  },
  {
   "cell_type": "code",
   "execution_count": 61,
   "metadata": {},
   "outputs": [
    {
     "name": "stdout",
     "output_type": "stream",
     "text": [
      "Before OverSampling, counts of label '1': 52412\n",
      "Before OverSampling, counts of label '0': 3485 \n",
      "\n"
     ]
    }
   ],
   "source": [
    "print(\"Before OverSampling, counts of label '1': {}\".format(sum(y_train == 1)))\n",
    "print(\"Before OverSampling, counts of label '0': {} \\n\".format(sum(y_train == 0)))"
   ]
  },
  {
   "cell_type": "code",
   "execution_count": 62,
   "metadata": {},
   "outputs": [
    {
     "name": "stdout",
     "output_type": "stream",
     "text": [
      "After OverSampling, the shape of train_X: (104824, 16)\n",
      "After OverSampling, the shape of train_y: (104824,) \n",
      "\n",
      "After OverSampling, counts of label '1': 52412\n",
      "After OverSampling, counts of label '0': 52412\n"
     ]
    }
   ],
   "source": [
    "# import SMOTE module from imblearn library\n",
    "from imblearn.over_sampling import SMOTE\n",
    "sm  = SMOTE(random_state=42)\n",
    "x_train_res,  y_train_res = sm.fit_resample(x_train, y_train.ravel() )\n",
    "\n",
    "print('After OverSampling, the shape of train_X: {}'.format(x_train_res.shape))\n",
    "print('After OverSampling, the shape of train_y: {} \\n'.format(y_train_res.shape))\n",
    "  \n",
    "print(\"After OverSampling, counts of label '1': {}\".format(sum(y_train_res == 1)))\n",
    "print(\"After OverSampling, counts of label '0': {}\".format(sum(y_train_res == 0)))\n"
   ]
  },
  {
   "cell_type": "code",
   "execution_count": 63,
   "metadata": {},
   "outputs": [],
   "source": [
    "#SMOTE Algorithm has oversampled the minority instances and made it equal to majority class"
   ]
  },
  {
   "cell_type": "markdown",
   "metadata": {},
   "source": [
    "# Modelling"
   ]
  },
  {
   "cell_type": "markdown",
   "metadata": {},
   "source": [
    "# 1. Logistic Regression"
   ]
  },
  {
   "cell_type": "code",
   "execution_count": 64,
   "metadata": {},
   "outputs": [
    {
     "data": {
      "text/plain": [
       "LogisticRegression(random_state=42)"
      ]
     },
     "execution_count": 64,
     "metadata": {},
     "output_type": "execute_result"
    }
   ],
   "source": [
    "from sklearn.linear_model import LogisticRegression\n",
    "from sklearn.metrics import classification_report, accuracy_score, roc_auc_score, confusion_matrix\n",
    "\n",
    "LR = LogisticRegression(random_state = 42)\n",
    "\n",
    "#fitting data into logistic \n",
    "LR.fit(x_train_res,y_train_res)"
   ]
  },
  {
   "cell_type": "code",
   "execution_count": 65,
   "metadata": {},
   "outputs": [
    {
     "data": {
      "text/plain": [
       "0.7810151945232927"
      ]
     },
     "execution_count": 65,
     "metadata": {},
     "output_type": "execute_result"
    }
   ],
   "source": [
    "prediction = LR.predict(x_test)\n",
    "\n",
    "accuracy_score(y_test,prediction)"
   ]
  },
  {
   "cell_type": "code",
   "execution_count": 66,
   "metadata": {},
   "outputs": [
    {
     "name": "stdout",
     "output_type": "stream",
     "text": [
      "              precision    recall  f1-score   support\n",
      "\n",
      "           0       0.19      0.73      0.30      1513\n",
      "           1       0.98      0.78      0.87     22443\n",
      "\n",
      "    accuracy                           0.78     23956\n",
      "   macro avg       0.58      0.76      0.58     23956\n",
      "weighted avg       0.93      0.78      0.83     23956\n",
      "\n"
     ]
    }
   ],
   "source": [
    "print(classification_report(y_test, prediction))"
   ]
  },
  {
   "cell_type": "code",
   "execution_count": 67,
   "metadata": {},
   "outputs": [
    {
     "name": "stdout",
     "output_type": "stream",
     "text": [
      "AUC of the model is; 0.8342941429443096\n"
     ]
    }
   ],
   "source": [
    "probability = LR.predict_proba(x_test)\n",
    "\n",
    "#The higher the AUC value for a classifier, the better its ability to distinguish between positive and negative classes.\n",
    "print(\"AUC of the model is;\",  roc_auc_score(y_test , probability[:, 1]))"
   ]
  },
  {
   "cell_type": "code",
   "execution_count": 68,
   "metadata": {},
   "outputs": [
    {
     "name": "stdout",
     "output_type": "stream",
     "text": [
      "[[ 1108   405]\n",
      " [ 4841 17602]]\n"
     ]
    }
   ],
   "source": [
    "print(confusion_matrix(y_test,prediction))"
   ]
  },
  {
   "cell_type": "code",
   "execution_count": 69,
   "metadata": {},
   "outputs": [],
   "source": [
    "mat = np.array(confusion_matrix(y_test,prediction))"
   ]
  },
  {
   "cell_type": "code",
   "execution_count": 70,
   "metadata": {
    "scrolled": true
   },
   "outputs": [
    {
     "data": {
      "text/plain": [
       "<matplotlib.axes._subplots.AxesSubplot at 0x1f980002c48>"
      ]
     },
     "execution_count": 70,
     "metadata": {},
     "output_type": "execute_result"
    },
    {
     "data": {
      "image/png": "[encoded data removed]",
      "text/plain": [
       "<Figure size 432x288 with 2 Axes>"
      ]
     },
     "metadata": {
      "needs_background": "light"
     },
     "output_type": "display_data"
    }
   ],
   "source": [
    "import seaborn as sns\n",
    "sns.heatmap(mat/np.sum(mat), annot=True, fmt = '0.2%' , cmap = \"Blues\")"
   ]
  },
  {
   "cell_type": "code",
   "execution_count": 71,
   "metadata": {},
   "outputs": [
    {
     "data": {
      "text/plain": [
       "<matplotlib.axes._subplots.AxesSubplot at 0x1f980035c08>"
      ]
     },
     "execution_count": 71,
     "metadata": {},
     "output_type": "execute_result"
    },
    {
     "data": {
      "image/png": "[encoded data removed]",
      "text/plain": [
       "<Figure size 432x288 with 2 Axes>"
      ]
     },
     "metadata": {
      "needs_background": "light"
     },
     "output_type": "display_data"
    }
   ],
   "source": [
    "import seaborn as sns\n",
    "\n",
    "labels = np.array([['TN', 'FP'], ['FN', 'TP']])\n",
    "\n",
    "sns.heatmap(mat/np.sum(mat), annot=labels, fmt = '' , cmap = \"Blues\")"
   ]
  },
  {
   "cell_type": "code",
   "execution_count": 72,
   "metadata": {},
   "outputs": [
    {
     "name": "stdout",
     "output_type": "stream",
     "text": [
      "Specificity (TN/(TN+FP)) of the model is:  0.7323198942498348\n",
      "Sensitivity (TP/(TP+FN)) of the model is:  0.7842979993761975 \n",
      "\n"
     ]
    }
   ],
   "source": [
    "mat  = np.array(confusion_matrix(y_test, prediction))\n",
    "\n",
    "\n",
    "#Sensitivity measures the proportion of positives that are correctly identified\n",
    "print(\"Specificity (TN/(TN+FP)) of the model is: \", mat[0,0]/(mat[0,0]+ mat[0,1]))\n",
    "\n",
    "\n",
    "#Specificity measures the proportion of negatives that are correctly identified\n",
    "print(\"Sensitivity (TP/(TP+FN)) of the model is: \", mat[1,1]/(mat[1,1]+ mat[1,0]),'\\n')\n"
   ]
  },
  {
   "cell_type": "markdown",
   "metadata": {},
   "source": [
    "# 2. Random Forest"
   ]
  },
  {
   "cell_type": "code",
   "execution_count": 73,
   "metadata": {},
   "outputs": [],
   "source": [
    "from sklearn.ensemble import RandomForestClassifier\n",
    "\n",
    "RFC = RandomForestClassifier(random_state=42)"
   ]
  },
  {
   "cell_type": "code",
   "execution_count": 74,
   "metadata": {},
   "outputs": [
    {
     "data": {
      "text/plain": [
       "RandomForestClassifier(random_state=42)"
      ]
     },
     "execution_count": 74,
     "metadata": {},
     "output_type": "execute_result"
    }
   ],
   "source": [
    "RFC.fit(x_train_res, y_train_res.ravel())\n"
   ]
  },
  {
   "cell_type": "code",
   "execution_count": 75,
   "metadata": {},
   "outputs": [
    {
     "data": {
      "text/plain": [
       "0.9292035398230089"
      ]
     },
     "execution_count": 75,
     "metadata": {},
     "output_type": "execute_result"
    }
   ],
   "source": [
    "pre = RFC.predict(x_test)\n",
    "\n",
    "accuracy_score(y_test,pre)"
   ]
  },
  {
   "cell_type": "code",
   "execution_count": 76,
   "metadata": {},
   "outputs": [
    {
     "name": "stdout",
     "output_type": "stream",
     "text": [
      "              precision    recall  f1-score   support\n",
      "\n",
      "           0       0.40      0.26      0.32      1513\n",
      "           1       0.95      0.97      0.96     22443\n",
      "\n",
      "    accuracy                           0.93     23956\n",
      "   macro avg       0.68      0.62      0.64     23956\n",
      "weighted avg       0.92      0.93      0.92     23956\n",
      "\n"
     ]
    }
   ],
   "source": [
    "import numpy as np\n",
    "import pandas as pd\n",
    "import matplotlib.pyplot as plt \n",
    "from sklearn import model_selection\n",
    "from sklearn.linear_model import LogisticRegression\n",
    "from sklearn.ensemble import RandomForestClassifier\n",
    "import seaborn as sns\n",
    "from sklearn.metrics import accuracy_score, roc_auc_score, confusion_matrix, classification_report\n",
    "\n",
    "%matplotlib inline\n",
    "\n",
    "print(classification_report(y_test, pre))"
   ]
  },
  {
   "cell_type": "code",
   "execution_count": 77,
   "metadata": {},
   "outputs": [
    {
     "name": "stdout",
     "output_type": "stream",
     "text": [
      "AUC of the model is: 0.819094986288095\n"
     ]
    }
   ],
   "source": [
    "probabilities = RFC.predict_proba(x_test)\n",
    "\n",
    "print(\"AUC of the model is:\", roc_auc_score(y_test , probabilities[:, 1]) )"
   ]
  },
  {
   "cell_type": "code",
   "execution_count": 78,
   "metadata": {},
   "outputs": [],
   "source": [
    "cm = np.array(confusion_matrix(y_test,pre))"
   ]
  },
  {
   "cell_type": "code",
   "execution_count": 79,
   "metadata": {},
   "outputs": [
    {
     "data": {
      "text/plain": [
       "<matplotlib.axes._subplots.AxesSubplot at 0x1f98008c608>"
      ]
     },
     "execution_count": 79,
     "metadata": {},
     "output_type": "execute_result"
    },
    {
     "data": {
      "image/png": "[encoded data removed]",
      "text/plain": [
       "<Figure size 432x288 with 2 Axes>"
      ]
     },
     "metadata": {
      "needs_background": "light"
     },
     "output_type": "display_data"
    }
   ],
   "source": [
    "import seaborn as sns\n",
    "sns.heatmap(cm/np.sum(cm), annot=True, fmt = '0.2%' , cmap = \"Blues\")"
   ]
  },
  {
   "cell_type": "code",
   "execution_count": 80,
   "metadata": {},
   "outputs": [
    {
     "name": "stdout",
     "output_type": "stream",
     "text": [
      "Specificity (TN/(TN+FP)) of the model is:  0.25776602775941837\n",
      "Sensitivity (TP/(TP+FN)) of the model is:  0.9744686539232723 \n",
      "\n"
     ]
    }
   ],
   "source": [
    "#mat  = np.array(confusion_matrix(y_test, prediction))\n",
    "\n",
    "\n",
    "#Sensitivity measures the proportion of positives that are correctly identified\n",
    "print(\"Specificity (TN/(TN+FP)) of the model is: \", cm[0,0]/(cm[0,0]+ cm[0,1]))\n",
    "\n",
    "\n",
    "#Specificity measures the proportion of negatives that are correctly identified\n",
    "print(\"Sensitivity (TP/(TP+FN)) of the model is: \", cm[1,1]/(cm[1,1]+ cm[1,0]),'\\n')\n"
   ]
  },
  {
   "cell_type": "code",
   "execution_count": 81,
   "metadata": {},
   "outputs": [
    {
     "name": "stdout",
     "output_type": "stream",
     "text": [
      "(21870, 1123, 390, 573)\n"
     ]
    }
   ],
   "source": [
    "def perf_measure(y_actual, y_pred):\n",
    "    TP = 0\n",
    "    FP = 0\n",
    "    TN = 0\n",
    "    FN = 0\n",
    "\n",
    "    for i in range(len(y_pred)): \n",
    "        if y_actual[i]==y_pred[i]==1:\n",
    "            TP += 1\n",
    "        if y_pred[i]==1 and y_actual[i]!=y_pred[i]:\n",
    "            FP += 1\n",
    "        if y_actual[i]==y_pred[i]==0:\n",
    "            TN += 1\n",
    "        if y_pred[i]==0 and y_actual[i]!=y_pred[i]:\n",
    "            FN += 1\n",
    "\n",
    "    return(TP, FP, TN, FN)\n",
    "\n",
    "print(perf_measure(y_test,pre))"
   ]
  },
  {
   "cell_type": "code",
   "execution_count": 82,
   "metadata": {},
   "outputs": [
    {
     "name": "stdout",
     "output_type": "stream",
     "text": [
      "Model accuracy with Logistic Regression: 0.7810151945232927\n",
      "Model accuracy with Random Forest: 0.9292035398230089\n"
     ]
    }
   ],
   "source": [
    "print(\"Model accuracy with Logistic Regression:\", accuracy_score(y_test,prediction))\n",
    "print(\"Model accuracy with Random Forest:\", accuracy_score(y_test,pre))"
   ]
  }
 ],
 "metadata": {
  "kernelspec": {
   "display_name": "Python 3",
   "language": "python",
   "name": "python3"
  },
  "language_info": {
   "codemirror_mode": {
    "name": "ipython",
    "version": 3
   },
   "file_extension": ".py",
   "mimetype": "text/x-python",
   "name": "python",
   "nbconvert_exporter": "python",
   "pygments_lexer": "ipython3",
   "version": "3.7.6"
  }
 },
 "nbformat": 4,
 "nbformat_minor": 4
}
